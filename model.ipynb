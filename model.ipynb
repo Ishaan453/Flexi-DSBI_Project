{
 "cells": [
  {
   "cell_type": "code",
   "execution_count": 129,
   "metadata": {},
   "outputs": [],
   "source": [
    "import pandas as pd"
   ]
  },
  {
   "cell_type": "code",
   "execution_count": 130,
   "metadata": {},
   "outputs": [
    {
     "data": {
      "text/html": [
       "<div>\n",
       "<style scoped>\n",
       "    .dataframe tbody tr th:only-of-type {\n",
       "        vertical-align: middle;\n",
       "    }\n",
       "\n",
       "    .dataframe tbody tr th {\n",
       "        vertical-align: top;\n",
       "    }\n",
       "\n",
       "    .dataframe thead th {\n",
       "        text-align: right;\n",
       "    }\n",
       "</style>\n",
       "<table border=\"1\" class=\"dataframe\">\n",
       "  <thead>\n",
       "    <tr style=\"text-align: right;\">\n",
       "      <th></th>\n",
       "      <th>name</th>\n",
       "      <th>category_list</th>\n",
       "      <th>funding_total_usd</th>\n",
       "      <th>country_code</th>\n",
       "      <th>state_code</th>\n",
       "      <th>founded_at</th>\n",
       "      <th>funding_rounds</th>\n",
       "      <th>first_funding_at</th>\n",
       "      <th>last_funding_at</th>\n",
       "      <th>status</th>\n",
       "    </tr>\n",
       "  </thead>\n",
       "  <tbody>\n",
       "    <tr>\n",
       "      <th>0</th>\n",
       "      <td>1 Mainstream</td>\n",
       "      <td>['Apps', 'Cable', 'Distribution', 'Software']</td>\n",
       "      <td>5000000</td>\n",
       "      <td>USA</td>\n",
       "      <td>CA</td>\n",
       "      <td>2012-03-01</td>\n",
       "      <td>1</td>\n",
       "      <td>2015-03-17</td>\n",
       "      <td>2015-03-17</td>\n",
       "      <td>acquired</td>\n",
       "    </tr>\n",
       "    <tr>\n",
       "      <th>1</th>\n",
       "      <td>1000 Markets</td>\n",
       "      <td>['Art', 'E-Commerce', 'Marketplaces']</td>\n",
       "      <td>500000</td>\n",
       "      <td>USA</td>\n",
       "      <td>WA</td>\n",
       "      <td>2009-01-01</td>\n",
       "      <td>1</td>\n",
       "      <td>2009-05-15</td>\n",
       "      <td>2009-05-15</td>\n",
       "      <td>acquired</td>\n",
       "    </tr>\n",
       "    <tr>\n",
       "      <th>2</th>\n",
       "      <td>1000memories</td>\n",
       "      <td>['Curated Web']</td>\n",
       "      <td>2535000</td>\n",
       "      <td>USA</td>\n",
       "      <td>CA</td>\n",
       "      <td>2010-07-01</td>\n",
       "      <td>2</td>\n",
       "      <td>2010-01-01</td>\n",
       "      <td>2011-02-16</td>\n",
       "      <td>acquired</td>\n",
       "    </tr>\n",
       "    <tr>\n",
       "      <th>3</th>\n",
       "      <td>100Plus</td>\n",
       "      <td>['Analytics']</td>\n",
       "      <td>1250000</td>\n",
       "      <td>USA</td>\n",
       "      <td>CA</td>\n",
       "      <td>2011-09-16</td>\n",
       "      <td>2</td>\n",
       "      <td>2011-11-02</td>\n",
       "      <td>2011-11-30</td>\n",
       "      <td>acquired</td>\n",
       "    </tr>\n",
       "    <tr>\n",
       "      <th>4</th>\n",
       "      <td>1010data</td>\n",
       "      <td>['Software']</td>\n",
       "      <td>35000000</td>\n",
       "      <td>USA</td>\n",
       "      <td>NY</td>\n",
       "      <td>2000-01-01</td>\n",
       "      <td>1</td>\n",
       "      <td>2010-03-08</td>\n",
       "      <td>2010-03-08</td>\n",
       "      <td>acquired</td>\n",
       "    </tr>\n",
       "  </tbody>\n",
       "</table>\n",
       "</div>"
      ],
      "text/plain": [
       "           name                                  category_list  \\\n",
       "0  1 Mainstream  ['Apps', 'Cable', 'Distribution', 'Software']   \n",
       "1  1000 Markets          ['Art', 'E-Commerce', 'Marketplaces']   \n",
       "2  1000memories                                ['Curated Web']   \n",
       "3       100Plus                                  ['Analytics']   \n",
       "4      1010data                                   ['Software']   \n",
       "\n",
       "  funding_total_usd country_code state_code  founded_at  funding_rounds  \\\n",
       "0           5000000          USA         CA  2012-03-01               1   \n",
       "1            500000          USA         WA  2009-01-01               1   \n",
       "2           2535000          USA         CA  2010-07-01               2   \n",
       "3           1250000          USA         CA  2011-09-16               2   \n",
       "4          35000000          USA         NY  2000-01-01               1   \n",
       "\n",
       "  first_funding_at last_funding_at    status  \n",
       "0       2015-03-17      2015-03-17  acquired  \n",
       "1       2009-05-15      2009-05-15  acquired  \n",
       "2       2010-01-01      2011-02-16  acquired  \n",
       "3       2011-11-02      2011-11-30  acquired  \n",
       "4       2010-03-08      2010-03-08  acquired  "
      ]
     },
     "execution_count": 130,
     "metadata": {},
     "output_type": "execute_result"
    }
   ],
   "source": [
    "df = pd.read_csv(\"final_startup_dataset_v2.csv\")\n",
    "df.head()"
   ]
  },
  {
   "cell_type": "code",
   "execution_count": 131,
   "metadata": {},
   "outputs": [
    {
     "name": "stdout",
     "output_type": "stream",
     "text": [
      "<class 'pandas.core.frame.DataFrame'>\n",
      "RangeIndex: 13959 entries, 0 to 13958\n",
      "Data columns (total 10 columns):\n",
      " #   Column             Non-Null Count  Dtype \n",
      "---  ------             --------------  ----- \n",
      " 0   name               13958 non-null  object\n",
      " 1   category_list      12873 non-null  object\n",
      " 2   funding_total_usd  13959 non-null  object\n",
      " 3   country_code       11968 non-null  object\n",
      " 4   state_code         11750 non-null  object\n",
      " 5   founded_at         10227 non-null  object\n",
      " 6   funding_rounds     13959 non-null  int64 \n",
      " 7   first_funding_at   13957 non-null  object\n",
      " 8   last_funding_at    13959 non-null  object\n",
      " 9   status             13959 non-null  object\n",
      "dtypes: int64(1), object(9)\n",
      "memory usage: 1.1+ MB\n"
     ]
    }
   ],
   "source": [
    "df.info()"
   ]
  },
  {
   "cell_type": "code",
   "execution_count": 132,
   "metadata": {},
   "outputs": [
    {
     "data": {
      "text/plain": [
       "name                    1\n",
       "category_list        1086\n",
       "funding_total_usd       0\n",
       "country_code         1991\n",
       "state_code           2209\n",
       "founded_at           3732\n",
       "funding_rounds          0\n",
       "first_funding_at        2\n",
       "last_funding_at         0\n",
       "status                  0\n",
       "dtype: int64"
      ]
     },
     "execution_count": 132,
     "metadata": {},
     "output_type": "execute_result"
    }
   ],
   "source": [
    "df.isna().sum()"
   ]
  },
  {
   "cell_type": "code",
   "execution_count": 133,
   "metadata": {},
   "outputs": [],
   "source": [
    "df.dropna(inplace=True)"
   ]
  },
  {
   "cell_type": "code",
   "execution_count": 134,
   "metadata": {},
   "outputs": [
    {
     "data": {
      "text/plain": [
       "name                 0\n",
       "category_list        0\n",
       "funding_total_usd    0\n",
       "country_code         0\n",
       "state_code           0\n",
       "founded_at           0\n",
       "funding_rounds       0\n",
       "first_funding_at     0\n",
       "last_funding_at      0\n",
       "status               0\n",
       "dtype: int64"
      ]
     },
     "execution_count": 134,
     "metadata": {},
     "output_type": "execute_result"
    }
   ],
   "source": [
    "df.isna().sum()"
   ]
  },
  {
   "cell_type": "code",
   "execution_count": 135,
   "metadata": {},
   "outputs": [
    {
     "data": {
      "text/plain": [
       "(8940, 10)"
      ]
     },
     "execution_count": 135,
     "metadata": {},
     "output_type": "execute_result"
    }
   ],
   "source": [
    "df.shape"
   ]
  },
  {
   "cell_type": "code",
   "execution_count": 136,
   "metadata": {},
   "outputs": [],
   "source": [
    "import ast\n",
    "df[\"category_list\"] = df[\"category_list\"].apply(lambda x: ast.literal_eval(x) if isinstance(x, str) else [])\n",
    "categories = df[\"category_list\"].explode()\n",
    "category_counts = categories.value_counts()\n",
    "categories_to_keep = category_counts[category_counts >= 100].index.tolist()\n",
    "for category in categories_to_keep:\n",
    "    df[category] = df[\"category_list\"].apply(lambda x: 1 if category in x else 0)\n",
    "df.drop(columns=[\"category_list\"], inplace=True)"
   ]
  },
  {
   "cell_type": "code",
   "execution_count": 137,
   "metadata": {},
   "outputs": [
    {
     "data": {
      "text/html": [
       "<div>\n",
       "<style scoped>\n",
       "    .dataframe tbody tr th:only-of-type {\n",
       "        vertical-align: middle;\n",
       "    }\n",
       "\n",
       "    .dataframe tbody tr th {\n",
       "        vertical-align: top;\n",
       "    }\n",
       "\n",
       "    .dataframe thead th {\n",
       "        text-align: right;\n",
       "    }\n",
       "</style>\n",
       "<table border=\"1\" class=\"dataframe\">\n",
       "  <thead>\n",
       "    <tr style=\"text-align: right;\">\n",
       "      <th></th>\n",
       "      <th>name</th>\n",
       "      <th>funding_total_usd</th>\n",
       "      <th>country_code</th>\n",
       "      <th>state_code</th>\n",
       "      <th>founded_at</th>\n",
       "      <th>funding_rounds</th>\n",
       "      <th>first_funding_at</th>\n",
       "      <th>last_funding_at</th>\n",
       "      <th>status</th>\n",
       "      <th>Software</th>\n",
       "      <th>...</th>\n",
       "      <th>Music</th>\n",
       "      <th>News</th>\n",
       "      <th>Travel</th>\n",
       "      <th>Web Development</th>\n",
       "      <th>iPhone</th>\n",
       "      <th>Fashion</th>\n",
       "      <th>Entertainment</th>\n",
       "      <th>Media</th>\n",
       "      <th>Manufacturing</th>\n",
       "      <th>Android</th>\n",
       "    </tr>\n",
       "  </thead>\n",
       "  <tbody>\n",
       "    <tr>\n",
       "      <th>0</th>\n",
       "      <td>1 Mainstream</td>\n",
       "      <td>5000000</td>\n",
       "      <td>USA</td>\n",
       "      <td>CA</td>\n",
       "      <td>2012-03-01</td>\n",
       "      <td>1</td>\n",
       "      <td>2015-03-17</td>\n",
       "      <td>2015-03-17</td>\n",
       "      <td>acquired</td>\n",
       "      <td>1</td>\n",
       "      <td>...</td>\n",
       "      <td>0</td>\n",
       "      <td>0</td>\n",
       "      <td>0</td>\n",
       "      <td>0</td>\n",
       "      <td>0</td>\n",
       "      <td>0</td>\n",
       "      <td>0</td>\n",
       "      <td>0</td>\n",
       "      <td>0</td>\n",
       "      <td>0</td>\n",
       "    </tr>\n",
       "    <tr>\n",
       "      <th>1</th>\n",
       "      <td>1000 Markets</td>\n",
       "      <td>500000</td>\n",
       "      <td>USA</td>\n",
       "      <td>WA</td>\n",
       "      <td>2009-01-01</td>\n",
       "      <td>1</td>\n",
       "      <td>2009-05-15</td>\n",
       "      <td>2009-05-15</td>\n",
       "      <td>acquired</td>\n",
       "      <td>0</td>\n",
       "      <td>...</td>\n",
       "      <td>0</td>\n",
       "      <td>0</td>\n",
       "      <td>0</td>\n",
       "      <td>0</td>\n",
       "      <td>0</td>\n",
       "      <td>0</td>\n",
       "      <td>0</td>\n",
       "      <td>0</td>\n",
       "      <td>0</td>\n",
       "      <td>0</td>\n",
       "    </tr>\n",
       "    <tr>\n",
       "      <th>2</th>\n",
       "      <td>1000memories</td>\n",
       "      <td>2535000</td>\n",
       "      <td>USA</td>\n",
       "      <td>CA</td>\n",
       "      <td>2010-07-01</td>\n",
       "      <td>2</td>\n",
       "      <td>2010-01-01</td>\n",
       "      <td>2011-02-16</td>\n",
       "      <td>acquired</td>\n",
       "      <td>0</td>\n",
       "      <td>...</td>\n",
       "      <td>0</td>\n",
       "      <td>0</td>\n",
       "      <td>0</td>\n",
       "      <td>0</td>\n",
       "      <td>0</td>\n",
       "      <td>0</td>\n",
       "      <td>0</td>\n",
       "      <td>0</td>\n",
       "      <td>0</td>\n",
       "      <td>0</td>\n",
       "    </tr>\n",
       "    <tr>\n",
       "      <th>3</th>\n",
       "      <td>100Plus</td>\n",
       "      <td>1250000</td>\n",
       "      <td>USA</td>\n",
       "      <td>CA</td>\n",
       "      <td>2011-09-16</td>\n",
       "      <td>2</td>\n",
       "      <td>2011-11-02</td>\n",
       "      <td>2011-11-30</td>\n",
       "      <td>acquired</td>\n",
       "      <td>0</td>\n",
       "      <td>...</td>\n",
       "      <td>0</td>\n",
       "      <td>0</td>\n",
       "      <td>0</td>\n",
       "      <td>0</td>\n",
       "      <td>0</td>\n",
       "      <td>0</td>\n",
       "      <td>0</td>\n",
       "      <td>0</td>\n",
       "      <td>0</td>\n",
       "      <td>0</td>\n",
       "    </tr>\n",
       "    <tr>\n",
       "      <th>4</th>\n",
       "      <td>1010data</td>\n",
       "      <td>35000000</td>\n",
       "      <td>USA</td>\n",
       "      <td>NY</td>\n",
       "      <td>2000-01-01</td>\n",
       "      <td>1</td>\n",
       "      <td>2010-03-08</td>\n",
       "      <td>2010-03-08</td>\n",
       "      <td>acquired</td>\n",
       "      <td>1</td>\n",
       "      <td>...</td>\n",
       "      <td>0</td>\n",
       "      <td>0</td>\n",
       "      <td>0</td>\n",
       "      <td>0</td>\n",
       "      <td>0</td>\n",
       "      <td>0</td>\n",
       "      <td>0</td>\n",
       "      <td>0</td>\n",
       "      <td>0</td>\n",
       "      <td>0</td>\n",
       "    </tr>\n",
       "  </tbody>\n",
       "</table>\n",
       "<p>5 rows × 51 columns</p>\n",
       "</div>"
      ],
      "text/plain": [
       "           name funding_total_usd country_code state_code  founded_at  \\\n",
       "0  1 Mainstream           5000000          USA         CA  2012-03-01   \n",
       "1  1000 Markets            500000          USA         WA  2009-01-01   \n",
       "2  1000memories           2535000          USA         CA  2010-07-01   \n",
       "3       100Plus           1250000          USA         CA  2011-09-16   \n",
       "4      1010data          35000000          USA         NY  2000-01-01   \n",
       "\n",
       "   funding_rounds first_funding_at last_funding_at    status  Software  ...  \\\n",
       "0               1       2015-03-17      2015-03-17  acquired         1  ...   \n",
       "1               1       2009-05-15      2009-05-15  acquired         0  ...   \n",
       "2               2       2010-01-01      2011-02-16  acquired         0  ...   \n",
       "3               2       2011-11-02      2011-11-30  acquired         0  ...   \n",
       "4               1       2010-03-08      2010-03-08  acquired         1  ...   \n",
       "\n",
       "   Music  News  Travel  Web Development  iPhone  Fashion  Entertainment  \\\n",
       "0      0     0       0                0       0        0              0   \n",
       "1      0     0       0                0       0        0              0   \n",
       "2      0     0       0                0       0        0              0   \n",
       "3      0     0       0                0       0        0              0   \n",
       "4      0     0       0                0       0        0              0   \n",
       "\n",
       "   Media  Manufacturing  Android  \n",
       "0      0              0        0  \n",
       "1      0              0        0  \n",
       "2      0              0        0  \n",
       "3      0              0        0  \n",
       "4      0              0        0  \n",
       "\n",
       "[5 rows x 51 columns]"
      ]
     },
     "execution_count": 137,
     "metadata": {},
     "output_type": "execute_result"
    }
   ],
   "source": [
    "df.head()"
   ]
  },
  {
   "cell_type": "code",
   "execution_count": 138,
   "metadata": {},
   "outputs": [
    {
     "data": {
      "text/plain": [
       "(8940, 51)"
      ]
     },
     "execution_count": 138,
     "metadata": {},
     "output_type": "execute_result"
    }
   ],
   "source": [
    "df.shape"
   ]
  },
  {
   "cell_type": "code",
   "execution_count": 139,
   "metadata": {},
   "outputs": [
    {
     "data": {
      "text/plain": [
       "Software\n",
       "0    7344\n",
       "1    1596\n",
       "Name: count, dtype: int64"
      ]
     },
     "execution_count": 139,
     "metadata": {},
     "output_type": "execute_result"
    }
   ],
   "source": [
    "df['Software'].value_counts()"
   ]
  },
  {
   "cell_type": "code",
   "execution_count": 140,
   "metadata": {},
   "outputs": [
    {
     "data": {
      "text/plain": [
       "Music\n",
       "0    8809\n",
       "1     131\n",
       "Name: count, dtype: int64"
      ]
     },
     "execution_count": 140,
     "metadata": {},
     "output_type": "execute_result"
    }
   ],
   "source": [
    "df['Music'].value_counts()"
   ]
  },
  {
   "cell_type": "code",
   "execution_count": 141,
   "metadata": {},
   "outputs": [
    {
     "data": {
      "text/html": [
       "<div>\n",
       "<style scoped>\n",
       "    .dataframe tbody tr th:only-of-type {\n",
       "        vertical-align: middle;\n",
       "    }\n",
       "\n",
       "    .dataframe tbody tr th {\n",
       "        vertical-align: top;\n",
       "    }\n",
       "\n",
       "    .dataframe thead th {\n",
       "        text-align: right;\n",
       "    }\n",
       "</style>\n",
       "<table border=\"1\" class=\"dataframe\">\n",
       "  <thead>\n",
       "    <tr style=\"text-align: right;\">\n",
       "      <th></th>\n",
       "      <th>name</th>\n",
       "      <th>funding_total_usd</th>\n",
       "      <th>country_code</th>\n",
       "      <th>state_code</th>\n",
       "      <th>founded_at</th>\n",
       "      <th>funding_rounds</th>\n",
       "      <th>first_funding_at</th>\n",
       "      <th>last_funding_at</th>\n",
       "      <th>status</th>\n",
       "      <th>Software</th>\n",
       "      <th>...</th>\n",
       "      <th>Travel</th>\n",
       "      <th>Web Development</th>\n",
       "      <th>iPhone</th>\n",
       "      <th>Fashion</th>\n",
       "      <th>Entertainment</th>\n",
       "      <th>Media</th>\n",
       "      <th>Manufacturing</th>\n",
       "      <th>Android</th>\n",
       "      <th>age_at_first_funding</th>\n",
       "      <th>age_at_last_funding</th>\n",
       "    </tr>\n",
       "  </thead>\n",
       "  <tbody>\n",
       "    <tr>\n",
       "      <th>0</th>\n",
       "      <td>1 Mainstream</td>\n",
       "      <td>5000000</td>\n",
       "      <td>USA</td>\n",
       "      <td>CA</td>\n",
       "      <td>2012-03-01</td>\n",
       "      <td>1</td>\n",
       "      <td>2015-03-17</td>\n",
       "      <td>2015-03-17</td>\n",
       "      <td>acquired</td>\n",
       "      <td>1</td>\n",
       "      <td>...</td>\n",
       "      <td>0</td>\n",
       "      <td>0</td>\n",
       "      <td>0</td>\n",
       "      <td>0</td>\n",
       "      <td>0</td>\n",
       "      <td>0</td>\n",
       "      <td>0</td>\n",
       "      <td>0</td>\n",
       "      <td>3</td>\n",
       "      <td>3</td>\n",
       "    </tr>\n",
       "    <tr>\n",
       "      <th>1</th>\n",
       "      <td>1000 Markets</td>\n",
       "      <td>500000</td>\n",
       "      <td>USA</td>\n",
       "      <td>WA</td>\n",
       "      <td>2009-01-01</td>\n",
       "      <td>1</td>\n",
       "      <td>2009-05-15</td>\n",
       "      <td>2009-05-15</td>\n",
       "      <td>acquired</td>\n",
       "      <td>0</td>\n",
       "      <td>...</td>\n",
       "      <td>0</td>\n",
       "      <td>0</td>\n",
       "      <td>0</td>\n",
       "      <td>0</td>\n",
       "      <td>0</td>\n",
       "      <td>0</td>\n",
       "      <td>0</td>\n",
       "      <td>0</td>\n",
       "      <td>0</td>\n",
       "      <td>0</td>\n",
       "    </tr>\n",
       "    <tr>\n",
       "      <th>2</th>\n",
       "      <td>1000memories</td>\n",
       "      <td>2535000</td>\n",
       "      <td>USA</td>\n",
       "      <td>CA</td>\n",
       "      <td>2010-07-01</td>\n",
       "      <td>2</td>\n",
       "      <td>2010-01-01</td>\n",
       "      <td>2011-02-16</td>\n",
       "      <td>acquired</td>\n",
       "      <td>0</td>\n",
       "      <td>...</td>\n",
       "      <td>0</td>\n",
       "      <td>0</td>\n",
       "      <td>0</td>\n",
       "      <td>0</td>\n",
       "      <td>0</td>\n",
       "      <td>0</td>\n",
       "      <td>0</td>\n",
       "      <td>0</td>\n",
       "      <td>-1</td>\n",
       "      <td>0</td>\n",
       "    </tr>\n",
       "    <tr>\n",
       "      <th>3</th>\n",
       "      <td>100Plus</td>\n",
       "      <td>1250000</td>\n",
       "      <td>USA</td>\n",
       "      <td>CA</td>\n",
       "      <td>2011-09-16</td>\n",
       "      <td>2</td>\n",
       "      <td>2011-11-02</td>\n",
       "      <td>2011-11-30</td>\n",
       "      <td>acquired</td>\n",
       "      <td>0</td>\n",
       "      <td>...</td>\n",
       "      <td>0</td>\n",
       "      <td>0</td>\n",
       "      <td>0</td>\n",
       "      <td>0</td>\n",
       "      <td>0</td>\n",
       "      <td>0</td>\n",
       "      <td>0</td>\n",
       "      <td>0</td>\n",
       "      <td>0</td>\n",
       "      <td>0</td>\n",
       "    </tr>\n",
       "    <tr>\n",
       "      <th>4</th>\n",
       "      <td>1010data</td>\n",
       "      <td>35000000</td>\n",
       "      <td>USA</td>\n",
       "      <td>NY</td>\n",
       "      <td>2000-01-01</td>\n",
       "      <td>1</td>\n",
       "      <td>2010-03-08</td>\n",
       "      <td>2010-03-08</td>\n",
       "      <td>acquired</td>\n",
       "      <td>1</td>\n",
       "      <td>...</td>\n",
       "      <td>0</td>\n",
       "      <td>0</td>\n",
       "      <td>0</td>\n",
       "      <td>0</td>\n",
       "      <td>0</td>\n",
       "      <td>0</td>\n",
       "      <td>0</td>\n",
       "      <td>0</td>\n",
       "      <td>10</td>\n",
       "      <td>10</td>\n",
       "    </tr>\n",
       "  </tbody>\n",
       "</table>\n",
       "<p>5 rows × 53 columns</p>\n",
       "</div>"
      ],
      "text/plain": [
       "           name funding_total_usd country_code state_code founded_at  \\\n",
       "0  1 Mainstream           5000000          USA         CA 2012-03-01   \n",
       "1  1000 Markets            500000          USA         WA 2009-01-01   \n",
       "2  1000memories           2535000          USA         CA 2010-07-01   \n",
       "3       100Plus           1250000          USA         CA 2011-09-16   \n",
       "4      1010data          35000000          USA         NY 2000-01-01   \n",
       "\n",
       "   funding_rounds first_funding_at last_funding_at    status  Software  ...  \\\n",
       "0               1       2015-03-17      2015-03-17  acquired         1  ...   \n",
       "1               1       2009-05-15      2009-05-15  acquired         0  ...   \n",
       "2               2       2010-01-01      2011-02-16  acquired         0  ...   \n",
       "3               2       2011-11-02      2011-11-30  acquired         0  ...   \n",
       "4               1       2010-03-08      2010-03-08  acquired         1  ...   \n",
       "\n",
       "   Travel  Web Development  iPhone  Fashion  Entertainment  Media  \\\n",
       "0       0                0       0        0              0      0   \n",
       "1       0                0       0        0              0      0   \n",
       "2       0                0       0        0              0      0   \n",
       "3       0                0       0        0              0      0   \n",
       "4       0                0       0        0              0      0   \n",
       "\n",
       "   Manufacturing  Android  age_at_first_funding  age_at_last_funding  \n",
       "0              0        0                     3                    3  \n",
       "1              0        0                     0                    0  \n",
       "2              0        0                    -1                    0  \n",
       "3              0        0                     0                    0  \n",
       "4              0        0                    10                   10  \n",
       "\n",
       "[5 rows x 53 columns]"
      ]
     },
     "execution_count": 141,
     "metadata": {},
     "output_type": "execute_result"
    }
   ],
   "source": [
    "import pandas as pd\n",
    "\n",
    "# Convert columns to datetime with the specific format 'DD-MM-YYYY'\n",
    "df['founded_at'] = pd.to_datetime(df['founded_at'], format='%Y-%m-%d', errors='coerce')\n",
    "df['first_funding_at'] = pd.to_datetime(df['first_funding_at'], format='%Y-%m-%d', errors='coerce')\n",
    "df['last_funding_at'] = pd.to_datetime(df['last_funding_at'], format='%Y-%m-%d', errors='coerce')\n",
    "\n",
    "# Calculate the age at first funding (difference between first funding date and founding date)\n",
    "df['age_at_first_funding'] = (df['first_funding_at'] - df['founded_at']).dt.days // 365\n",
    "\n",
    "# Calculate the age at last funding (difference between last funding date and founding date)\n",
    "df['age_at_last_funding'] = (df['last_funding_at'] - df['founded_at']).dt.days // 365\n",
    "\n",
    "df.head()\n"
   ]
  },
  {
   "cell_type": "code",
   "execution_count": 142,
   "metadata": {},
   "outputs": [
    {
     "data": {
      "text/plain": [
       "(8940, 53)"
      ]
     },
     "execution_count": 142,
     "metadata": {},
     "output_type": "execute_result"
    }
   ],
   "source": [
    "df.shape"
   ]
  },
  {
   "cell_type": "code",
   "execution_count": null,
   "metadata": {},
   "outputs": [
    {
     "data": {
      "text/plain": [
       "666"
      ]
     },
     "execution_count": 144,
     "metadata": {},
     "output_type": "execute_result"
    }
   ],
   "source": [
    "df[df[\"age_at_first_funding\"] < 0].shape[0]"
   ]
  },
  {
   "cell_type": "code",
   "execution_count": 145,
   "metadata": {},
   "outputs": [
    {
     "data": {
      "text/plain": [
       "327"
      ]
     },
     "execution_count": 145,
     "metadata": {},
     "output_type": "execute_result"
    }
   ],
   "source": [
    "df[df[\"age_at_last_funding\"] < 0].shape[0]"
   ]
  },
  {
   "cell_type": "code",
   "execution_count": 146,
   "metadata": {},
   "outputs": [],
   "source": [
    "df = df[df[\"age_at_first_funding\"] >= 0]\n",
    "df = df[df[\"age_at_first_funding\"] >= 0]"
   ]
  },
  {
   "cell_type": "code",
   "execution_count": 147,
   "metadata": {},
   "outputs": [
    {
     "data": {
      "text/plain": [
       "(8274, 53)"
      ]
     },
     "execution_count": 147,
     "metadata": {},
     "output_type": "execute_result"
    }
   ],
   "source": [
    "df.shape"
   ]
  },
  {
   "cell_type": "code",
   "execution_count": null,
   "metadata": {},
   "outputs": [],
   "source": []
  }
 ],
 "metadata": {
  "kernelspec": {
   "display_name": "base",
   "language": "python",
   "name": "python3"
  },
  "language_info": {
   "codemirror_mode": {
    "name": "ipython",
    "version": 3
   },
   "file_extension": ".py",
   "mimetype": "text/x-python",
   "name": "python",
   "nbconvert_exporter": "python",
   "pygments_lexer": "ipython3",
   "version": "3.12.3"
  }
 },
 "nbformat": 4,
 "nbformat_minor": 2
}
