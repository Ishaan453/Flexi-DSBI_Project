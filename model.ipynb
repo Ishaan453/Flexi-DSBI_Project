{
 "cells": [
  {
   "cell_type": "code",
   "execution_count": 1,
   "metadata": {},
   "outputs": [],
   "source": [
    "import pandas as pd"
   ]
  },
  {
   "cell_type": "code",
   "execution_count": 2,
   "metadata": {},
   "outputs": [
    {
     "data": {
      "text/html": [
       "<div>\n",
       "<style scoped>\n",
       "    .dataframe tbody tr th:only-of-type {\n",
       "        vertical-align: middle;\n",
       "    }\n",
       "\n",
       "    .dataframe tbody tr th {\n",
       "        vertical-align: top;\n",
       "    }\n",
       "\n",
       "    .dataframe thead th {\n",
       "        text-align: right;\n",
       "    }\n",
       "</style>\n",
       "<table border=\"1\" class=\"dataframe\">\n",
       "  <thead>\n",
       "    <tr style=\"text-align: right;\">\n",
       "      <th></th>\n",
       "      <th>name</th>\n",
       "      <th>category_list</th>\n",
       "      <th>funding_total_usd</th>\n",
       "      <th>country_code</th>\n",
       "      <th>state_code</th>\n",
       "      <th>founded_at</th>\n",
       "      <th>funding_rounds</th>\n",
       "      <th>first_funding_at</th>\n",
       "      <th>last_funding_at</th>\n",
       "      <th>status</th>\n",
       "    </tr>\n",
       "  </thead>\n",
       "  <tbody>\n",
       "    <tr>\n",
       "      <th>0</th>\n",
       "      <td>1 Mainstream</td>\n",
       "      <td>['Apps', 'Cable', 'Distribution', 'Software']</td>\n",
       "      <td>5000000</td>\n",
       "      <td>USA</td>\n",
       "      <td>CA</td>\n",
       "      <td>2012-03-01</td>\n",
       "      <td>1</td>\n",
       "      <td>2015-03-17</td>\n",
       "      <td>2015-03-17</td>\n",
       "      <td>acquired</td>\n",
       "    </tr>\n",
       "    <tr>\n",
       "      <th>1</th>\n",
       "      <td>1000 Markets</td>\n",
       "      <td>['Art', 'E-Commerce', 'Marketplaces']</td>\n",
       "      <td>500000</td>\n",
       "      <td>USA</td>\n",
       "      <td>WA</td>\n",
       "      <td>2009-01-01</td>\n",
       "      <td>1</td>\n",
       "      <td>2009-05-15</td>\n",
       "      <td>2009-05-15</td>\n",
       "      <td>acquired</td>\n",
       "    </tr>\n",
       "    <tr>\n",
       "      <th>2</th>\n",
       "      <td>1000memories</td>\n",
       "      <td>['Curated Web']</td>\n",
       "      <td>2535000</td>\n",
       "      <td>USA</td>\n",
       "      <td>CA</td>\n",
       "      <td>2010-07-01</td>\n",
       "      <td>2</td>\n",
       "      <td>2010-01-01</td>\n",
       "      <td>2011-02-16</td>\n",
       "      <td>acquired</td>\n",
       "    </tr>\n",
       "    <tr>\n",
       "      <th>3</th>\n",
       "      <td>100Plus</td>\n",
       "      <td>['Analytics']</td>\n",
       "      <td>1250000</td>\n",
       "      <td>USA</td>\n",
       "      <td>CA</td>\n",
       "      <td>2011-09-16</td>\n",
       "      <td>2</td>\n",
       "      <td>2011-11-02</td>\n",
       "      <td>2011-11-30</td>\n",
       "      <td>acquired</td>\n",
       "    </tr>\n",
       "    <tr>\n",
       "      <th>4</th>\n",
       "      <td>1010data</td>\n",
       "      <td>['Software']</td>\n",
       "      <td>35000000</td>\n",
       "      <td>USA</td>\n",
       "      <td>NY</td>\n",
       "      <td>2000-01-01</td>\n",
       "      <td>1</td>\n",
       "      <td>2010-03-08</td>\n",
       "      <td>2010-03-08</td>\n",
       "      <td>acquired</td>\n",
       "    </tr>\n",
       "  </tbody>\n",
       "</table>\n",
       "</div>"
      ],
      "text/plain": [
       "           name                                  category_list  \\\n",
       "0  1 Mainstream  ['Apps', 'Cable', 'Distribution', 'Software']   \n",
       "1  1000 Markets          ['Art', 'E-Commerce', 'Marketplaces']   \n",
       "2  1000memories                                ['Curated Web']   \n",
       "3       100Plus                                  ['Analytics']   \n",
       "4      1010data                                   ['Software']   \n",
       "\n",
       "  funding_total_usd country_code state_code  founded_at  funding_rounds  \\\n",
       "0           5000000          USA         CA  2012-03-01               1   \n",
       "1            500000          USA         WA  2009-01-01               1   \n",
       "2           2535000          USA         CA  2010-07-01               2   \n",
       "3           1250000          USA         CA  2011-09-16               2   \n",
       "4          35000000          USA         NY  2000-01-01               1   \n",
       "\n",
       "  first_funding_at last_funding_at    status  \n",
       "0       2015-03-17      2015-03-17  acquired  \n",
       "1       2009-05-15      2009-05-15  acquired  \n",
       "2       2010-01-01      2011-02-16  acquired  \n",
       "3       2011-11-02      2011-11-30  acquired  \n",
       "4       2010-03-08      2010-03-08  acquired  "
      ]
     },
     "execution_count": 2,
     "metadata": {},
     "output_type": "execute_result"
    }
   ],
   "source": [
    "df = pd.read_csv(\"final_startup_dataset_v2.csv\")\n",
    "df.head()"
   ]
  },
  {
   "cell_type": "code",
   "execution_count": 3,
   "metadata": {},
   "outputs": [
    {
     "name": "stdout",
     "output_type": "stream",
     "text": [
      "<class 'pandas.core.frame.DataFrame'>\n",
      "RangeIndex: 13959 entries, 0 to 13958\n",
      "Data columns (total 10 columns):\n",
      " #   Column             Non-Null Count  Dtype \n",
      "---  ------             --------------  ----- \n",
      " 0   name               13958 non-null  object\n",
      " 1   category_list      12873 non-null  object\n",
      " 2   funding_total_usd  13959 non-null  object\n",
      " 3   country_code       11968 non-null  object\n",
      " 4   state_code         11750 non-null  object\n",
      " 5   founded_at         10227 non-null  object\n",
      " 6   funding_rounds     13959 non-null  int64 \n",
      " 7   first_funding_at   13957 non-null  object\n",
      " 8   last_funding_at    13959 non-null  object\n",
      " 9   status             13959 non-null  object\n",
      "dtypes: int64(1), object(9)\n",
      "memory usage: 1.1+ MB\n"
     ]
    }
   ],
   "source": [
    "df.info()"
   ]
  },
  {
   "cell_type": "code",
   "execution_count": 4,
   "metadata": {},
   "outputs": [
    {
     "data": {
      "text/plain": [
       "name                    1\n",
       "category_list        1086\n",
       "funding_total_usd       0\n",
       "country_code         1991\n",
       "state_code           2209\n",
       "founded_at           3732\n",
       "funding_rounds          0\n",
       "first_funding_at        2\n",
       "last_funding_at         0\n",
       "status                  0\n",
       "dtype: int64"
      ]
     },
     "execution_count": 4,
     "metadata": {},
     "output_type": "execute_result"
    }
   ],
   "source": [
    "df.isna().sum()"
   ]
  },
  {
   "cell_type": "code",
   "execution_count": 5,
   "metadata": {},
   "outputs": [],
   "source": [
    "df.dropna(inplace=True)"
   ]
  },
  {
   "cell_type": "code",
   "execution_count": 6,
   "metadata": {},
   "outputs": [
    {
     "data": {
      "text/plain": [
       "name                 0\n",
       "category_list        0\n",
       "funding_total_usd    0\n",
       "country_code         0\n",
       "state_code           0\n",
       "founded_at           0\n",
       "funding_rounds       0\n",
       "first_funding_at     0\n",
       "last_funding_at      0\n",
       "status               0\n",
       "dtype: int64"
      ]
     },
     "execution_count": 6,
     "metadata": {},
     "output_type": "execute_result"
    }
   ],
   "source": [
    "df.isna().sum()"
   ]
  },
  {
   "cell_type": "code",
   "execution_count": 7,
   "metadata": {},
   "outputs": [
    {
     "data": {
      "text/plain": [
       "(8940, 10)"
      ]
     },
     "execution_count": 7,
     "metadata": {},
     "output_type": "execute_result"
    }
   ],
   "source": [
    "df.shape"
   ]
  },
  {
   "cell_type": "code",
   "execution_count": 8,
   "metadata": {},
   "outputs": [],
   "source": [
    "import ast\n",
    "df[\"category_list\"] = df[\"category_list\"].apply(lambda x: ast.literal_eval(x) if isinstance(x, str) else [])\n",
    "categories = df[\"category_list\"].explode()\n",
    "category_counts = categories.value_counts()\n",
    "categories_to_keep = category_counts[category_counts >= 200].index.tolist()\n",
    "for category in categories_to_keep:\n",
    "    df[category] = df[\"category_list\"].apply(lambda x: 1 if category in x else 0)\n",
    "df.drop(columns=[\"category_list\"], inplace=True)"
   ]
  },
  {
   "cell_type": "code",
   "execution_count": 9,
   "metadata": {},
   "outputs": [
    {
     "data": {
      "text/html": [
       "<div>\n",
       "<style scoped>\n",
       "    .dataframe tbody tr th:only-of-type {\n",
       "        vertical-align: middle;\n",
       "    }\n",
       "\n",
       "    .dataframe tbody tr th {\n",
       "        vertical-align: top;\n",
       "    }\n",
       "\n",
       "    .dataframe thead th {\n",
       "        text-align: right;\n",
       "    }\n",
       "</style>\n",
       "<table border=\"1\" class=\"dataframe\">\n",
       "  <thead>\n",
       "    <tr style=\"text-align: right;\">\n",
       "      <th></th>\n",
       "      <th>name</th>\n",
       "      <th>funding_total_usd</th>\n",
       "      <th>country_code</th>\n",
       "      <th>state_code</th>\n",
       "      <th>founded_at</th>\n",
       "      <th>funding_rounds</th>\n",
       "      <th>first_funding_at</th>\n",
       "      <th>last_funding_at</th>\n",
       "      <th>status</th>\n",
       "      <th>Software</th>\n",
       "      <th>...</th>\n",
       "      <th>Social Media</th>\n",
       "      <th>Games</th>\n",
       "      <th>Health Care</th>\n",
       "      <th>Analytics</th>\n",
       "      <th>Finance</th>\n",
       "      <th>Internet</th>\n",
       "      <th>Security</th>\n",
       "      <th>Hardware + Software</th>\n",
       "      <th>SaaS</th>\n",
       "      <th>Technology</th>\n",
       "    </tr>\n",
       "  </thead>\n",
       "  <tbody>\n",
       "    <tr>\n",
       "      <th>0</th>\n",
       "      <td>1 Mainstream</td>\n",
       "      <td>5000000</td>\n",
       "      <td>USA</td>\n",
       "      <td>CA</td>\n",
       "      <td>2012-03-01</td>\n",
       "      <td>1</td>\n",
       "      <td>2015-03-17</td>\n",
       "      <td>2015-03-17</td>\n",
       "      <td>acquired</td>\n",
       "      <td>1</td>\n",
       "      <td>...</td>\n",
       "      <td>0</td>\n",
       "      <td>0</td>\n",
       "      <td>0</td>\n",
       "      <td>0</td>\n",
       "      <td>0</td>\n",
       "      <td>0</td>\n",
       "      <td>0</td>\n",
       "      <td>0</td>\n",
       "      <td>0</td>\n",
       "      <td>0</td>\n",
       "    </tr>\n",
       "    <tr>\n",
       "      <th>1</th>\n",
       "      <td>1000 Markets</td>\n",
       "      <td>500000</td>\n",
       "      <td>USA</td>\n",
       "      <td>WA</td>\n",
       "      <td>2009-01-01</td>\n",
       "      <td>1</td>\n",
       "      <td>2009-05-15</td>\n",
       "      <td>2009-05-15</td>\n",
       "      <td>acquired</td>\n",
       "      <td>0</td>\n",
       "      <td>...</td>\n",
       "      <td>0</td>\n",
       "      <td>0</td>\n",
       "      <td>0</td>\n",
       "      <td>0</td>\n",
       "      <td>0</td>\n",
       "      <td>0</td>\n",
       "      <td>0</td>\n",
       "      <td>0</td>\n",
       "      <td>0</td>\n",
       "      <td>0</td>\n",
       "    </tr>\n",
       "    <tr>\n",
       "      <th>2</th>\n",
       "      <td>1000memories</td>\n",
       "      <td>2535000</td>\n",
       "      <td>USA</td>\n",
       "      <td>CA</td>\n",
       "      <td>2010-07-01</td>\n",
       "      <td>2</td>\n",
       "      <td>2010-01-01</td>\n",
       "      <td>2011-02-16</td>\n",
       "      <td>acquired</td>\n",
       "      <td>0</td>\n",
       "      <td>...</td>\n",
       "      <td>0</td>\n",
       "      <td>0</td>\n",
       "      <td>0</td>\n",
       "      <td>0</td>\n",
       "      <td>0</td>\n",
       "      <td>0</td>\n",
       "      <td>0</td>\n",
       "      <td>0</td>\n",
       "      <td>0</td>\n",
       "      <td>0</td>\n",
       "    </tr>\n",
       "    <tr>\n",
       "      <th>3</th>\n",
       "      <td>100Plus</td>\n",
       "      <td>1250000</td>\n",
       "      <td>USA</td>\n",
       "      <td>CA</td>\n",
       "      <td>2011-09-16</td>\n",
       "      <td>2</td>\n",
       "      <td>2011-11-02</td>\n",
       "      <td>2011-11-30</td>\n",
       "      <td>acquired</td>\n",
       "      <td>0</td>\n",
       "      <td>...</td>\n",
       "      <td>0</td>\n",
       "      <td>0</td>\n",
       "      <td>0</td>\n",
       "      <td>1</td>\n",
       "      <td>0</td>\n",
       "      <td>0</td>\n",
       "      <td>0</td>\n",
       "      <td>0</td>\n",
       "      <td>0</td>\n",
       "      <td>0</td>\n",
       "    </tr>\n",
       "    <tr>\n",
       "      <th>4</th>\n",
       "      <td>1010data</td>\n",
       "      <td>35000000</td>\n",
       "      <td>USA</td>\n",
       "      <td>NY</td>\n",
       "      <td>2000-01-01</td>\n",
       "      <td>1</td>\n",
       "      <td>2010-03-08</td>\n",
       "      <td>2010-03-08</td>\n",
       "      <td>acquired</td>\n",
       "      <td>1</td>\n",
       "      <td>...</td>\n",
       "      <td>0</td>\n",
       "      <td>0</td>\n",
       "      <td>0</td>\n",
       "      <td>0</td>\n",
       "      <td>0</td>\n",
       "      <td>0</td>\n",
       "      <td>0</td>\n",
       "      <td>0</td>\n",
       "      <td>0</td>\n",
       "      <td>0</td>\n",
       "    </tr>\n",
       "  </tbody>\n",
       "</table>\n",
       "<p>5 rows × 26 columns</p>\n",
       "</div>"
      ],
      "text/plain": [
       "           name funding_total_usd country_code state_code  founded_at  \\\n",
       "0  1 Mainstream           5000000          USA         CA  2012-03-01   \n",
       "1  1000 Markets            500000          USA         WA  2009-01-01   \n",
       "2  1000memories           2535000          USA         CA  2010-07-01   \n",
       "3       100Plus           1250000          USA         CA  2011-09-16   \n",
       "4      1010data          35000000          USA         NY  2000-01-01   \n",
       "\n",
       "   funding_rounds first_funding_at last_funding_at    status  Software  ...  \\\n",
       "0               1       2015-03-17      2015-03-17  acquired         1  ...   \n",
       "1               1       2009-05-15      2009-05-15  acquired         0  ...   \n",
       "2               2       2010-01-01      2011-02-16  acquired         0  ...   \n",
       "3               2       2011-11-02      2011-11-30  acquired         0  ...   \n",
       "4               1       2010-03-08      2010-03-08  acquired         1  ...   \n",
       "\n",
       "   Social Media  Games  Health Care  Analytics  Finance  Internet  Security  \\\n",
       "0             0      0            0          0        0         0         0   \n",
       "1             0      0            0          0        0         0         0   \n",
       "2             0      0            0          0        0         0         0   \n",
       "3             0      0            0          1        0         0         0   \n",
       "4             0      0            0          0        0         0         0   \n",
       "\n",
       "   Hardware + Software  SaaS  Technology  \n",
       "0                    0     0           0  \n",
       "1                    0     0           0  \n",
       "2                    0     0           0  \n",
       "3                    0     0           0  \n",
       "4                    0     0           0  \n",
       "\n",
       "[5 rows x 26 columns]"
      ]
     },
     "execution_count": 9,
     "metadata": {},
     "output_type": "execute_result"
    }
   ],
   "source": [
    "df.head()"
   ]
  },
  {
   "cell_type": "code",
   "execution_count": 10,
   "metadata": {},
   "outputs": [
    {
     "data": {
      "text/plain": [
       "(8940, 26)"
      ]
     },
     "execution_count": 10,
     "metadata": {},
     "output_type": "execute_result"
    }
   ],
   "source": [
    "df.shape"
   ]
  },
  {
   "cell_type": "code",
   "execution_count": 11,
   "metadata": {},
   "outputs": [
    {
     "data": {
      "text/plain": [
       "Software\n",
       "0    7344\n",
       "1    1596\n",
       "Name: count, dtype: int64"
      ]
     },
     "execution_count": 11,
     "metadata": {},
     "output_type": "execute_result"
    }
   ],
   "source": [
    "df['Software'].value_counts()"
   ]
  },
  {
   "cell_type": "code",
   "execution_count": 12,
   "metadata": {},
   "outputs": [
    {
     "data": {
      "text/plain": [
       "Games\n",
       "0    8493\n",
       "1     447\n",
       "Name: count, dtype: int64"
      ]
     },
     "execution_count": 12,
     "metadata": {},
     "output_type": "execute_result"
    }
   ],
   "source": [
    "df['Games'].value_counts()"
   ]
  },
  {
   "cell_type": "code",
   "execution_count": 13,
   "metadata": {},
   "outputs": [
    {
     "data": {
      "text/html": [
       "<div>\n",
       "<style scoped>\n",
       "    .dataframe tbody tr th:only-of-type {\n",
       "        vertical-align: middle;\n",
       "    }\n",
       "\n",
       "    .dataframe tbody tr th {\n",
       "        vertical-align: top;\n",
       "    }\n",
       "\n",
       "    .dataframe thead th {\n",
       "        text-align: right;\n",
       "    }\n",
       "</style>\n",
       "<table border=\"1\" class=\"dataframe\">\n",
       "  <thead>\n",
       "    <tr style=\"text-align: right;\">\n",
       "      <th></th>\n",
       "      <th>name</th>\n",
       "      <th>funding_total_usd</th>\n",
       "      <th>country_code</th>\n",
       "      <th>state_code</th>\n",
       "      <th>founded_at</th>\n",
       "      <th>funding_rounds</th>\n",
       "      <th>first_funding_at</th>\n",
       "      <th>last_funding_at</th>\n",
       "      <th>status</th>\n",
       "      <th>Software</th>\n",
       "      <th>...</th>\n",
       "      <th>Health Care</th>\n",
       "      <th>Analytics</th>\n",
       "      <th>Finance</th>\n",
       "      <th>Internet</th>\n",
       "      <th>Security</th>\n",
       "      <th>Hardware + Software</th>\n",
       "      <th>SaaS</th>\n",
       "      <th>Technology</th>\n",
       "      <th>age_at_first_funding</th>\n",
       "      <th>age_at_last_funding</th>\n",
       "    </tr>\n",
       "  </thead>\n",
       "  <tbody>\n",
       "    <tr>\n",
       "      <th>0</th>\n",
       "      <td>1 Mainstream</td>\n",
       "      <td>5000000</td>\n",
       "      <td>USA</td>\n",
       "      <td>CA</td>\n",
       "      <td>2012-03-01</td>\n",
       "      <td>1</td>\n",
       "      <td>2015-03-17</td>\n",
       "      <td>2015-03-17</td>\n",
       "      <td>acquired</td>\n",
       "      <td>1</td>\n",
       "      <td>...</td>\n",
       "      <td>0</td>\n",
       "      <td>0</td>\n",
       "      <td>0</td>\n",
       "      <td>0</td>\n",
       "      <td>0</td>\n",
       "      <td>0</td>\n",
       "      <td>0</td>\n",
       "      <td>0</td>\n",
       "      <td>3</td>\n",
       "      <td>3</td>\n",
       "    </tr>\n",
       "    <tr>\n",
       "      <th>1</th>\n",
       "      <td>1000 Markets</td>\n",
       "      <td>500000</td>\n",
       "      <td>USA</td>\n",
       "      <td>WA</td>\n",
       "      <td>2009-01-01</td>\n",
       "      <td>1</td>\n",
       "      <td>2009-05-15</td>\n",
       "      <td>2009-05-15</td>\n",
       "      <td>acquired</td>\n",
       "      <td>0</td>\n",
       "      <td>...</td>\n",
       "      <td>0</td>\n",
       "      <td>0</td>\n",
       "      <td>0</td>\n",
       "      <td>0</td>\n",
       "      <td>0</td>\n",
       "      <td>0</td>\n",
       "      <td>0</td>\n",
       "      <td>0</td>\n",
       "      <td>0</td>\n",
       "      <td>0</td>\n",
       "    </tr>\n",
       "    <tr>\n",
       "      <th>2</th>\n",
       "      <td>1000memories</td>\n",
       "      <td>2535000</td>\n",
       "      <td>USA</td>\n",
       "      <td>CA</td>\n",
       "      <td>2010-07-01</td>\n",
       "      <td>2</td>\n",
       "      <td>2010-01-01</td>\n",
       "      <td>2011-02-16</td>\n",
       "      <td>acquired</td>\n",
       "      <td>0</td>\n",
       "      <td>...</td>\n",
       "      <td>0</td>\n",
       "      <td>0</td>\n",
       "      <td>0</td>\n",
       "      <td>0</td>\n",
       "      <td>0</td>\n",
       "      <td>0</td>\n",
       "      <td>0</td>\n",
       "      <td>0</td>\n",
       "      <td>-1</td>\n",
       "      <td>0</td>\n",
       "    </tr>\n",
       "    <tr>\n",
       "      <th>3</th>\n",
       "      <td>100Plus</td>\n",
       "      <td>1250000</td>\n",
       "      <td>USA</td>\n",
       "      <td>CA</td>\n",
       "      <td>2011-09-16</td>\n",
       "      <td>2</td>\n",
       "      <td>2011-11-02</td>\n",
       "      <td>2011-11-30</td>\n",
       "      <td>acquired</td>\n",
       "      <td>0</td>\n",
       "      <td>...</td>\n",
       "      <td>0</td>\n",
       "      <td>1</td>\n",
       "      <td>0</td>\n",
       "      <td>0</td>\n",
       "      <td>0</td>\n",
       "      <td>0</td>\n",
       "      <td>0</td>\n",
       "      <td>0</td>\n",
       "      <td>0</td>\n",
       "      <td>0</td>\n",
       "    </tr>\n",
       "    <tr>\n",
       "      <th>4</th>\n",
       "      <td>1010data</td>\n",
       "      <td>35000000</td>\n",
       "      <td>USA</td>\n",
       "      <td>NY</td>\n",
       "      <td>2000-01-01</td>\n",
       "      <td>1</td>\n",
       "      <td>2010-03-08</td>\n",
       "      <td>2010-03-08</td>\n",
       "      <td>acquired</td>\n",
       "      <td>1</td>\n",
       "      <td>...</td>\n",
       "      <td>0</td>\n",
       "      <td>0</td>\n",
       "      <td>0</td>\n",
       "      <td>0</td>\n",
       "      <td>0</td>\n",
       "      <td>0</td>\n",
       "      <td>0</td>\n",
       "      <td>0</td>\n",
       "      <td>10</td>\n",
       "      <td>10</td>\n",
       "    </tr>\n",
       "  </tbody>\n",
       "</table>\n",
       "<p>5 rows × 28 columns</p>\n",
       "</div>"
      ],
      "text/plain": [
       "           name funding_total_usd country_code state_code founded_at  \\\n",
       "0  1 Mainstream           5000000          USA         CA 2012-03-01   \n",
       "1  1000 Markets            500000          USA         WA 2009-01-01   \n",
       "2  1000memories           2535000          USA         CA 2010-07-01   \n",
       "3       100Plus           1250000          USA         CA 2011-09-16   \n",
       "4      1010data          35000000          USA         NY 2000-01-01   \n",
       "\n",
       "   funding_rounds first_funding_at last_funding_at    status  Software  ...  \\\n",
       "0               1       2015-03-17      2015-03-17  acquired         1  ...   \n",
       "1               1       2009-05-15      2009-05-15  acquired         0  ...   \n",
       "2               2       2010-01-01      2011-02-16  acquired         0  ...   \n",
       "3               2       2011-11-02      2011-11-30  acquired         0  ...   \n",
       "4               1       2010-03-08      2010-03-08  acquired         1  ...   \n",
       "\n",
       "   Health Care  Analytics  Finance  Internet  Security  Hardware + Software  \\\n",
       "0            0          0        0         0         0                    0   \n",
       "1            0          0        0         0         0                    0   \n",
       "2            0          0        0         0         0                    0   \n",
       "3            0          1        0         0         0                    0   \n",
       "4            0          0        0         0         0                    0   \n",
       "\n",
       "   SaaS  Technology  age_at_first_funding  age_at_last_funding  \n",
       "0     0           0                     3                    3  \n",
       "1     0           0                     0                    0  \n",
       "2     0           0                    -1                    0  \n",
       "3     0           0                     0                    0  \n",
       "4     0           0                    10                   10  \n",
       "\n",
       "[5 rows x 28 columns]"
      ]
     },
     "execution_count": 13,
     "metadata": {},
     "output_type": "execute_result"
    }
   ],
   "source": [
    "import pandas as pd\n",
    "\n",
    "# Convert columns to datetime with the specific format 'DD-MM-YYYY'\n",
    "df['founded_at'] = pd.to_datetime(df['founded_at'], format='%Y-%m-%d', errors='coerce')\n",
    "df['first_funding_at'] = pd.to_datetime(df['first_funding_at'], format='%Y-%m-%d', errors='coerce')\n",
    "df['last_funding_at'] = pd.to_datetime(df['last_funding_at'], format='%Y-%m-%d', errors='coerce')\n",
    "\n",
    "# Calculate the age at first funding (difference between first funding date and founding date)\n",
    "df['age_at_first_funding'] = (df['first_funding_at'] - df['founded_at']).dt.days // 365\n",
    "\n",
    "# Calculate the age at last funding (difference between last funding date and founding date)\n",
    "df['age_at_last_funding'] = (df['last_funding_at'] - df['founded_at']).dt.days // 365\n",
    "\n",
    "df.head()\n"
   ]
  },
  {
   "cell_type": "code",
   "execution_count": 14,
   "metadata": {},
   "outputs": [
    {
     "data": {
      "text/plain": [
       "(8940, 28)"
      ]
     },
     "execution_count": 14,
     "metadata": {},
     "output_type": "execute_result"
    }
   ],
   "source": [
    "df.shape"
   ]
  },
  {
   "cell_type": "code",
   "execution_count": 15,
   "metadata": {},
   "outputs": [
    {
     "data": {
      "text/plain": [
       "666"
      ]
     },
     "execution_count": 15,
     "metadata": {},
     "output_type": "execute_result"
    }
   ],
   "source": [
    "df[df[\"age_at_first_funding\"] < 0].shape[0]"
   ]
  },
  {
   "cell_type": "code",
   "execution_count": 16,
   "metadata": {},
   "outputs": [
    {
     "data": {
      "text/plain": [
       "327"
      ]
     },
     "execution_count": 16,
     "metadata": {},
     "output_type": "execute_result"
    }
   ],
   "source": [
    "df[df[\"age_at_last_funding\"] < 0].shape[0]"
   ]
  },
  {
   "cell_type": "code",
   "execution_count": 17,
   "metadata": {},
   "outputs": [],
   "source": [
    "df = df[df[\"age_at_first_funding\"] >= 0]\n",
    "df = df[df[\"age_at_first_funding\"] >= 0]"
   ]
  },
  {
   "cell_type": "code",
   "execution_count": 18,
   "metadata": {},
   "outputs": [
    {
     "data": {
      "text/plain": [
       "(8274, 28)"
      ]
     },
     "execution_count": 18,
     "metadata": {},
     "output_type": "execute_result"
    }
   ],
   "source": [
    "df.shape"
   ]
  },
  {
   "cell_type": "code",
   "execution_count": 19,
   "metadata": {},
   "outputs": [],
   "source": [
    "#df.to_csv(\"final_startup_dataset_v3.csv\", index=False)"
   ]
  },
  {
   "cell_type": "code",
   "execution_count": 20,
   "metadata": {},
   "outputs": [
    {
     "name": "stdout",
     "output_type": "stream",
     "text": [
      "<class 'pandas.core.frame.DataFrame'>\n",
      "Index: 8274 entries, 0 to 13958\n",
      "Data columns (total 28 columns):\n",
      " #   Column                Non-Null Count  Dtype         \n",
      "---  ------                --------------  -----         \n",
      " 0   name                  8274 non-null   object        \n",
      " 1   funding_total_usd     8274 non-null   object        \n",
      " 2   country_code          8274 non-null   object        \n",
      " 3   state_code            8274 non-null   object        \n",
      " 4   founded_at            8274 non-null   datetime64[ns]\n",
      " 5   funding_rounds        8274 non-null   int64         \n",
      " 6   first_funding_at      8274 non-null   datetime64[ns]\n",
      " 7   last_funding_at       8274 non-null   datetime64[ns]\n",
      " 8   status                8274 non-null   object        \n",
      " 9   Software              8274 non-null   int64         \n",
      " 10  Mobile                8274 non-null   int64         \n",
      " 11  Curated Web           8274 non-null   int64         \n",
      " 12  Biotechnology         8274 non-null   int64         \n",
      " 13  Advertising           8274 non-null   int64         \n",
      " 14  E-Commerce            8274 non-null   int64         \n",
      " 15  Enterprise Software   8274 non-null   int64         \n",
      " 16  Social Media          8274 non-null   int64         \n",
      " 17  Games                 8274 non-null   int64         \n",
      " 18  Health Care           8274 non-null   int64         \n",
      " 19  Analytics             8274 non-null   int64         \n",
      " 20  Finance               8274 non-null   int64         \n",
      " 21  Internet              8274 non-null   int64         \n",
      " 22  Security              8274 non-null   int64         \n",
      " 23  Hardware + Software   8274 non-null   int64         \n",
      " 24  SaaS                  8274 non-null   int64         \n",
      " 25  Technology            8274 non-null   int64         \n",
      " 26  age_at_first_funding  8274 non-null   int64         \n",
      " 27  age_at_last_funding   8274 non-null   int64         \n",
      "dtypes: datetime64[ns](3), int64(20), object(5)\n",
      "memory usage: 1.8+ MB\n"
     ]
    }
   ],
   "source": [
    "df.info()"
   ]
  },
  {
   "cell_type": "code",
   "execution_count": 21,
   "metadata": {},
   "outputs": [],
   "source": [
    "df.drop(columns=[\"founded_at\", \"first_funding_at\", \"last_funding_at\"], inplace=True)"
   ]
  },
  {
   "cell_type": "code",
   "execution_count": 22,
   "metadata": {},
   "outputs": [
    {
     "name": "stdout",
     "output_type": "stream",
     "text": [
      "<class 'pandas.core.frame.DataFrame'>\n",
      "Index: 8274 entries, 0 to 13958\n",
      "Data columns (total 25 columns):\n",
      " #   Column                Non-Null Count  Dtype \n",
      "---  ------                --------------  ----- \n",
      " 0   name                  8274 non-null   object\n",
      " 1   funding_total_usd     8274 non-null   object\n",
      " 2   country_code          8274 non-null   object\n",
      " 3   state_code            8274 non-null   object\n",
      " 4   funding_rounds        8274 non-null   int64 \n",
      " 5   status                8274 non-null   object\n",
      " 6   Software              8274 non-null   int64 \n",
      " 7   Mobile                8274 non-null   int64 \n",
      " 8   Curated Web           8274 non-null   int64 \n",
      " 9   Biotechnology         8274 non-null   int64 \n",
      " 10  Advertising           8274 non-null   int64 \n",
      " 11  E-Commerce            8274 non-null   int64 \n",
      " 12  Enterprise Software   8274 non-null   int64 \n",
      " 13  Social Media          8274 non-null   int64 \n",
      " 14  Games                 8274 non-null   int64 \n",
      " 15  Health Care           8274 non-null   int64 \n",
      " 16  Analytics             8274 non-null   int64 \n",
      " 17  Finance               8274 non-null   int64 \n",
      " 18  Internet              8274 non-null   int64 \n",
      " 19  Security              8274 non-null   int64 \n",
      " 20  Hardware + Software   8274 non-null   int64 \n",
      " 21  SaaS                  8274 non-null   int64 \n",
      " 22  Technology            8274 non-null   int64 \n",
      " 23  age_at_first_funding  8274 non-null   int64 \n",
      " 24  age_at_last_funding   8274 non-null   int64 \n",
      "dtypes: int64(20), object(5)\n",
      "memory usage: 1.6+ MB\n"
     ]
    }
   ],
   "source": [
    "df.info()"
   ]
  },
  {
   "cell_type": "code",
   "execution_count": 23,
   "metadata": {},
   "outputs": [
    {
     "name": "stdout",
     "output_type": "stream",
     "text": [
      "838\n"
     ]
    }
   ],
   "source": [
    "dash_count = (df['funding_total_usd'] == '-').sum()\n",
    "print(dash_count)"
   ]
  },
  {
   "cell_type": "code",
   "execution_count": 24,
   "metadata": {},
   "outputs": [],
   "source": [
    "import numpy as np\n",
    "closed_median = df[df['status'] == 'closed']['funding_total_usd'].replace('-', np.nan).dropna().astype(float).median()\n",
    "acquired_ipo_median = df[df['status'].isin(['acquired', 'ipo'])]['funding_total_usd'].replace('-', np.nan).dropna().astype(float).median()\n",
    "\n",
    "filled_funding = []\n",
    "for index, row in df.iterrows():\n",
    "    if row['funding_total_usd'] == '-':\n",
    "        if row['status'] == 'closed':\n",
    "            filled_funding.append(closed_median)\n",
    "        elif row['status'] in ['acquired', 'ipo']:\n",
    "            filled_funding.append(acquired_ipo_median)\n",
    "    else:\n",
    "        try:\n",
    "            filled_funding.append(float(row['funding_total_usd'].replace(',', '')))\n",
    "        except ValueError:\n",
    "            filled_funding.append(np.nan)\n",
    "\n",
    "df['funding_total_usd'] = filled_funding\n",
    "\n",
    "# Ensure the column is of type float\n",
    "df['funding_total_usd'] = df['funding_total_usd'].astype(float)"
   ]
  },
  {
   "cell_type": "code",
   "execution_count": 25,
   "metadata": {},
   "outputs": [
    {
     "data": {
      "text/html": [
       "<div>\n",
       "<style scoped>\n",
       "    .dataframe tbody tr th:only-of-type {\n",
       "        vertical-align: middle;\n",
       "    }\n",
       "\n",
       "    .dataframe tbody tr th {\n",
       "        vertical-align: top;\n",
       "    }\n",
       "\n",
       "    .dataframe thead th {\n",
       "        text-align: right;\n",
       "    }\n",
       "</style>\n",
       "<table border=\"1\" class=\"dataframe\">\n",
       "  <thead>\n",
       "    <tr style=\"text-align: right;\">\n",
       "      <th></th>\n",
       "      <th>name</th>\n",
       "      <th>funding_total_usd</th>\n",
       "      <th>country_code</th>\n",
       "      <th>state_code</th>\n",
       "      <th>funding_rounds</th>\n",
       "      <th>status</th>\n",
       "      <th>Software</th>\n",
       "      <th>Mobile</th>\n",
       "      <th>Curated Web</th>\n",
       "      <th>Biotechnology</th>\n",
       "      <th>...</th>\n",
       "      <th>Health Care</th>\n",
       "      <th>Analytics</th>\n",
       "      <th>Finance</th>\n",
       "      <th>Internet</th>\n",
       "      <th>Security</th>\n",
       "      <th>Hardware + Software</th>\n",
       "      <th>SaaS</th>\n",
       "      <th>Technology</th>\n",
       "      <th>age_at_first_funding</th>\n",
       "      <th>age_at_last_funding</th>\n",
       "    </tr>\n",
       "  </thead>\n",
       "  <tbody>\n",
       "    <tr>\n",
       "      <th>0</th>\n",
       "      <td>1 Mainstream</td>\n",
       "      <td>5000000.0</td>\n",
       "      <td>USA</td>\n",
       "      <td>CA</td>\n",
       "      <td>1</td>\n",
       "      <td>acquired</td>\n",
       "      <td>1</td>\n",
       "      <td>0</td>\n",
       "      <td>0</td>\n",
       "      <td>0</td>\n",
       "      <td>...</td>\n",
       "      <td>0</td>\n",
       "      <td>0</td>\n",
       "      <td>0</td>\n",
       "      <td>0</td>\n",
       "      <td>0</td>\n",
       "      <td>0</td>\n",
       "      <td>0</td>\n",
       "      <td>0</td>\n",
       "      <td>3</td>\n",
       "      <td>3</td>\n",
       "    </tr>\n",
       "    <tr>\n",
       "      <th>1</th>\n",
       "      <td>1000 Markets</td>\n",
       "      <td>500000.0</td>\n",
       "      <td>USA</td>\n",
       "      <td>WA</td>\n",
       "      <td>1</td>\n",
       "      <td>acquired</td>\n",
       "      <td>0</td>\n",
       "      <td>0</td>\n",
       "      <td>0</td>\n",
       "      <td>0</td>\n",
       "      <td>...</td>\n",
       "      <td>0</td>\n",
       "      <td>0</td>\n",
       "      <td>0</td>\n",
       "      <td>0</td>\n",
       "      <td>0</td>\n",
       "      <td>0</td>\n",
       "      <td>0</td>\n",
       "      <td>0</td>\n",
       "      <td>0</td>\n",
       "      <td>0</td>\n",
       "    </tr>\n",
       "    <tr>\n",
       "      <th>3</th>\n",
       "      <td>100Plus</td>\n",
       "      <td>1250000.0</td>\n",
       "      <td>USA</td>\n",
       "      <td>CA</td>\n",
       "      <td>2</td>\n",
       "      <td>acquired</td>\n",
       "      <td>0</td>\n",
       "      <td>0</td>\n",
       "      <td>0</td>\n",
       "      <td>0</td>\n",
       "      <td>...</td>\n",
       "      <td>0</td>\n",
       "      <td>1</td>\n",
       "      <td>0</td>\n",
       "      <td>0</td>\n",
       "      <td>0</td>\n",
       "      <td>0</td>\n",
       "      <td>0</td>\n",
       "      <td>0</td>\n",
       "      <td>0</td>\n",
       "      <td>0</td>\n",
       "    </tr>\n",
       "    <tr>\n",
       "      <th>4</th>\n",
       "      <td>1010data</td>\n",
       "      <td>35000000.0</td>\n",
       "      <td>USA</td>\n",
       "      <td>NY</td>\n",
       "      <td>1</td>\n",
       "      <td>acquired</td>\n",
       "      <td>1</td>\n",
       "      <td>0</td>\n",
       "      <td>0</td>\n",
       "      <td>0</td>\n",
       "      <td>...</td>\n",
       "      <td>0</td>\n",
       "      <td>0</td>\n",
       "      <td>0</td>\n",
       "      <td>0</td>\n",
       "      <td>0</td>\n",
       "      <td>0</td>\n",
       "      <td>0</td>\n",
       "      <td>0</td>\n",
       "      <td>10</td>\n",
       "      <td>10</td>\n",
       "    </tr>\n",
       "    <tr>\n",
       "      <th>5</th>\n",
       "      <td>10BestThings</td>\n",
       "      <td>50000.0</td>\n",
       "      <td>USA</td>\n",
       "      <td>OH</td>\n",
       "      <td>1</td>\n",
       "      <td>closed</td>\n",
       "      <td>0</td>\n",
       "      <td>0</td>\n",
       "      <td>1</td>\n",
       "      <td>0</td>\n",
       "      <td>...</td>\n",
       "      <td>0</td>\n",
       "      <td>0</td>\n",
       "      <td>0</td>\n",
       "      <td>0</td>\n",
       "      <td>0</td>\n",
       "      <td>0</td>\n",
       "      <td>0</td>\n",
       "      <td>0</td>\n",
       "      <td>0</td>\n",
       "      <td>0</td>\n",
       "    </tr>\n",
       "  </tbody>\n",
       "</table>\n",
       "<p>5 rows × 25 columns</p>\n",
       "</div>"
      ],
      "text/plain": [
       "           name  funding_total_usd country_code state_code  funding_rounds  \\\n",
       "0  1 Mainstream          5000000.0          USA         CA               1   \n",
       "1  1000 Markets           500000.0          USA         WA               1   \n",
       "3       100Plus          1250000.0          USA         CA               2   \n",
       "4      1010data         35000000.0          USA         NY               1   \n",
       "5  10BestThings            50000.0          USA         OH               1   \n",
       "\n",
       "     status  Software  Mobile  Curated Web  Biotechnology  ...  Health Care  \\\n",
       "0  acquired         1       0            0              0  ...            0   \n",
       "1  acquired         0       0            0              0  ...            0   \n",
       "3  acquired         0       0            0              0  ...            0   \n",
       "4  acquired         1       0            0              0  ...            0   \n",
       "5    closed         0       0            1              0  ...            0   \n",
       "\n",
       "   Analytics  Finance  Internet  Security  Hardware + Software  SaaS  \\\n",
       "0          0        0         0         0                    0     0   \n",
       "1          0        0         0         0                    0     0   \n",
       "3          1        0         0         0                    0     0   \n",
       "4          0        0         0         0                    0     0   \n",
       "5          0        0         0         0                    0     0   \n",
       "\n",
       "   Technology  age_at_first_funding  age_at_last_funding  \n",
       "0           0                     3                    3  \n",
       "1           0                     0                    0  \n",
       "3           0                     0                    0  \n",
       "4           0                    10                   10  \n",
       "5           0                     0                    0  \n",
       "\n",
       "[5 rows x 25 columns]"
      ]
     },
     "execution_count": 25,
     "metadata": {},
     "output_type": "execute_result"
    }
   ],
   "source": [
    "df.head()"
   ]
  },
  {
   "cell_type": "code",
   "execution_count": 26,
   "metadata": {},
   "outputs": [
    {
     "name": "stdout",
     "output_type": "stream",
     "text": [
      "0\n"
     ]
    }
   ],
   "source": [
    "dash_count = (df['funding_total_usd'] == '-').sum()\n",
    "print(dash_count)"
   ]
  },
  {
   "cell_type": "code",
   "execution_count": 27,
   "metadata": {},
   "outputs": [],
   "source": [
    "from sklearn.preprocessing import LabelEncoder\n",
    "df = df.drop('name', axis=1)\n",
    "df['funding_total_usd'] = df['funding_total_usd'].astype(float)\n",
    "\n",
    "\n",
    "country_encoders = {}\n",
    "state_encoders = {}\n",
    "le_country = LabelEncoder()\n",
    "df['country_code'] = le_country.fit_transform(df['country_code'])\n",
    "country_encoders['country_code'] = le_country\n",
    "\n",
    "le_state = LabelEncoder()\n",
    "df['state_code'] = le_state.fit_transform(df['state_code'])\n",
    "state_encoders['state_code'] = le_state"
   ]
  },
  {
   "cell_type": "code",
   "execution_count": 28,
   "metadata": {},
   "outputs": [],
   "source": [
    "df['status'] = df['status'].apply(lambda x: 'success' if x in ['acquired', 'ipo'] else 'fail')"
   ]
  },
  {
   "cell_type": "code",
   "execution_count": 29,
   "metadata": {},
   "outputs": [
    {
     "data": {
      "text/plain": [
       "status\n",
       "success    5355\n",
       "fail       2919\n",
       "Name: count, dtype: int64"
      ]
     },
     "execution_count": 29,
     "metadata": {},
     "output_type": "execute_result"
    }
   ],
   "source": [
    "df['status'].value_counts()"
   ]
  },
  {
   "cell_type": "code",
   "execution_count": 30,
   "metadata": {},
   "outputs": [],
   "source": [
    "from sklearn.model_selection import train_test_split\n",
    "\n",
    "X_train, X_test, y_train, y_test = train_test_split(df.drop(columns=[\"status\"]), df[\"status\"], test_size=0.2, random_state=42, stratify=df[\"status\"])"
   ]
  },
  {
   "cell_type": "code",
   "execution_count": 48,
   "metadata": {},
   "outputs": [
    {
     "name": "stdout",
     "output_type": "stream",
     "text": [
      "Accuracy of Random Forest model (test): 0.79\n",
      "Accuracy of Random Forest model (train): 0.82\n"
     ]
    }
   ],
   "source": [
    "from sklearn.ensemble import RandomForestClassifier\n",
    "from sklearn.metrics import accuracy_score\n",
    "\n",
    "rf_model = RandomForestClassifier(n_estimators=100, random_state=42, max_depth=10)\n",
    "\n",
    "# Train the model using the training data\n",
    "rf_model.fit(X_train, y_train)\n",
    "\n",
    "# Predict on the test set\n",
    "y_pred_test = rf_model.predict(X_test)\n",
    "\n",
    "# Evaluate the model performance on the test set\n",
    "accuracy_test = accuracy_score(y_test, y_pred_test)\n",
    "\n",
    "print(f\"Accuracy of Random Forest model (test): {accuracy_test:.2f}\")\n",
    "\n",
    "# Predict on the training set\n",
    "y_pred_train = rf_model.predict(X_train)\n",
    "\n",
    "# Evaluate the model performance on the training set\n",
    "accuracy_train = accuracy_score(y_train, y_pred_train)\n",
    "\n",
    "print(f\"Accuracy of Random Forest model (train): {accuracy_train:.2f}\")\n"
   ]
  },
  {
   "cell_type": "code",
   "execution_count": 32,
   "metadata": {},
   "outputs": [
    {
     "name": "stdout",
     "output_type": "stream",
     "text": [
      "Accuracy of Decision Tree model (test): 0.77\n",
      "Accuracy of Decision Tree model (train): 0.83\n"
     ]
    }
   ],
   "source": [
    "from sklearn.tree import DecisionTreeClassifier\n",
    "from sklearn.metrics import accuracy_score\n",
    "\n",
    "# Create a Decision Tree model\n",
    "dt_model = DecisionTreeClassifier(random_state=42, max_depth=10)\n",
    "\n",
    "# Train the model using the training data\n",
    "dt_model.fit(X_train, y_train)\n",
    "\n",
    "# Predict on the test set\n",
    "y_pred_test = dt_model.predict(X_test)\n",
    "\n",
    "# Evaluate the model performance on the test set\n",
    "accuracy_test = accuracy_score(y_test, y_pred_test)\n",
    "\n",
    "print(f\"Accuracy of Decision Tree model (test): {accuracy_test:.2f}\")\n",
    "\n",
    "# Predict on the training set\n",
    "y_pred_train = dt_model.predict(X_train)\n",
    "\n",
    "# Evaluate the model performance on the training set\n",
    "accuracy_train = accuracy_score(y_train, y_pred_train)\n",
    "\n",
    "print(f\"Accuracy of Decision Tree model (train): {accuracy_train:.2f}\")"
   ]
  },
  {
   "cell_type": "code",
   "execution_count": 33,
   "metadata": {},
   "outputs": [
    {
     "name": "stdout",
     "output_type": "stream",
     "text": [
      "<class 'pandas.core.frame.DataFrame'>\n",
      "Index: 6619 entries, 5253 to 11924\n",
      "Data columns (total 23 columns):\n",
      " #   Column                Non-Null Count  Dtype  \n",
      "---  ------                --------------  -----  \n",
      " 0   funding_total_usd     6619 non-null   float64\n",
      " 1   country_code          6619 non-null   int32  \n",
      " 2   state_code            6619 non-null   int32  \n",
      " 3   funding_rounds        6619 non-null   int64  \n",
      " 4   Software              6619 non-null   int64  \n",
      " 5   Mobile                6619 non-null   int64  \n",
      " 6   Curated Web           6619 non-null   int64  \n",
      " 7   Biotechnology         6619 non-null   int64  \n",
      " 8   Advertising           6619 non-null   int64  \n",
      " 9   E-Commerce            6619 non-null   int64  \n",
      " 10  Enterprise Software   6619 non-null   int64  \n",
      " 11  Social Media          6619 non-null   int64  \n",
      " 12  Games                 6619 non-null   int64  \n",
      " 13  Health Care           6619 non-null   int64  \n",
      " 14  Analytics             6619 non-null   int64  \n",
      " 15  Finance               6619 non-null   int64  \n",
      " 16  Internet              6619 non-null   int64  \n",
      " 17  Security              6619 non-null   int64  \n",
      " 18  Hardware + Software   6619 non-null   int64  \n",
      " 19  SaaS                  6619 non-null   int64  \n",
      " 20  Technology            6619 non-null   int64  \n",
      " 21  age_at_first_funding  6619 non-null   int64  \n",
      " 22  age_at_last_funding   6619 non-null   int64  \n",
      "dtypes: float64(1), int32(2), int64(20)\n",
      "memory usage: 1.2 MB\n"
     ]
    }
   ],
   "source": [
    "X_train.info()"
   ]
  },
  {
   "cell_type": "code",
   "execution_count": 34,
   "metadata": {},
   "outputs": [
    {
     "data": {
      "text/plain": [
       "funding_total_usd       0\n",
       "country_code            0\n",
       "state_code              0\n",
       "funding_rounds          0\n",
       "Software                0\n",
       "Mobile                  0\n",
       "Curated Web             0\n",
       "Biotechnology           0\n",
       "Advertising             0\n",
       "E-Commerce              0\n",
       "Enterprise Software     0\n",
       "Social Media            0\n",
       "Games                   0\n",
       "Health Care             0\n",
       "Analytics               0\n",
       "Finance                 0\n",
       "Internet                0\n",
       "Security                0\n",
       "Hardware + Software     0\n",
       "SaaS                    0\n",
       "Technology              0\n",
       "age_at_first_funding    0\n",
       "age_at_last_funding     0\n",
       "dtype: int64"
      ]
     },
     "execution_count": 34,
     "metadata": {},
     "output_type": "execute_result"
    }
   ],
   "source": [
    "X_train.isna().sum()"
   ]
  },
  {
   "cell_type": "code",
   "execution_count": 35,
   "metadata": {},
   "outputs": [
    {
     "name": "stdout",
     "output_type": "stream",
     "text": [
      "Accuracy of KNN model (test): 0.70\n",
      "Accuracy of KNN model (train): 0.79\n"
     ]
    }
   ],
   "source": [
    "from sklearn.preprocessing import StandardScaler\n",
    "from sklearn.neighbors import KNeighborsClassifier\n",
    "\n",
    "# 5. Scale the features (important for KNN)\n",
    "scaler = StandardScaler()\n",
    "X_train_scaled = scaler.fit_transform(X_train)\n",
    "X_test_scaled = scaler.transform(X_test)\n",
    "\n",
    "# 6. Create and train the KNN model\n",
    "knn_model = KNeighborsClassifier(n_neighbors=5)  # You can adjust n_neighbors\n",
    "knn_model.fit(X_train_scaled, y_train)\n",
    "\n",
    "# 7. Make predictions on the test set\n",
    "y_pred_test = knn_model.predict(X_test_scaled)\n",
    "\n",
    "# 8. Evaluate the model performance\n",
    "accuracy_test = accuracy_score(y_test, y_pred_test)\n",
    "\n",
    "print(f\"Accuracy of KNN model (test): {accuracy_test:.2f}\")\n",
    "\n",
    "# 9. Make predictions on the training set\n",
    "y_pred_train = knn_model.predict(X_train_scaled)\n",
    "\n",
    "#10. Evaluate the model performance on the training set.\n",
    "accuracy_train = accuracy_score(y_train, y_pred_train)\n",
    "\n",
    "print(f\"Accuracy of KNN model (train): {accuracy_train:.2f}\")"
   ]
  },
  {
   "cell_type": "code",
   "execution_count": 49,
   "metadata": {},
   "outputs": [
    {
     "data": {
      "image/png": "[encoded data removed]",
      "text/plain": [
       "<Figure size 1200x600 with 2 Axes>"
      ]
     },
     "metadata": {},
     "output_type": "display_data"
    }
   ],
   "source": [
    "import pandas as pd\n",
    "import seaborn as sns\n",
    "import matplotlib.pyplot as plt\n",
    "\n",
    "# Assuming your DataFrame is named 'df' and has columns 'age_at_first_funding' and 'age_at_last_funding'\n",
    "\n",
    "plt.figure(figsize=(12, 6))\n",
    "\n",
    "plt.subplot(1, 2, 1)\n",
    "sns.violinplot(y=df['age_at_first_funding'])\n",
    "plt.title('Violin Plot of age_at_first_funding')\n",
    "\n",
    "plt.subplot(1, 2, 2)\n",
    "sns.violinplot(y=df['age_at_last_funding'])\n",
    "plt.title('Violin Plot of age_at_last_funding')\n",
    "\n",
    "plt.tight_layout()\n",
    "plt.show()"
   ]
  },
  {
   "cell_type": "code",
   "execution_count": 52,
   "metadata": {},
   "outputs": [
    {
     "data": {
      "text/plain": [
       "4.546289581822577"
      ]
     },
     "execution_count": 52,
     "metadata": {},
     "output_type": "execute_result"
    }
   ],
   "source": [
    "df['age_at_first_funding'].mean()"
   ]
  },
  {
   "cell_type": "code",
   "execution_count": null,
   "metadata": {},
   "outputs": [],
   "source": []
  }
 ],
 "metadata": {
  "kernelspec": {
   "display_name": "base",
   "language": "python",
   "name": "python3"
  },
  "language_info": {
   "codemirror_mode": {
    "name": "ipython",
    "version": 3
   },
   "file_extension": ".py",
   "mimetype": "text/x-python",
   "name": "python",
   "nbconvert_exporter": "python",
   "pygments_lexer": "ipython3",
   "version": "3.12.3"
  }
 },
 "nbformat": 4,
 "nbformat_minor": 2
}
