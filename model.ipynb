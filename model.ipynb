{
 "cells": [
  {
   "cell_type": "code",
   "execution_count": 1,
   "metadata": {},
   "outputs": [],
   "source": [
    "import pandas as pd"
   ]
  },
  {
   "cell_type": "code",
   "execution_count": 2,
   "metadata": {},
   "outputs": [
    {
     "data": {
      "text/html": [
       "<div>\n",
       "<style scoped>\n",
       "    .dataframe tbody tr th:only-of-type {\n",
       "        vertical-align: middle;\n",
       "    }\n",
       "\n",
       "    .dataframe tbody tr th {\n",
       "        vertical-align: top;\n",
       "    }\n",
       "\n",
       "    .dataframe thead th {\n",
       "        text-align: right;\n",
       "    }\n",
       "</style>\n",
       "<table border=\"1\" class=\"dataframe\">\n",
       "  <thead>\n",
       "    <tr style=\"text-align: right;\">\n",
       "      <th></th>\n",
       "      <th>name</th>\n",
       "      <th>category_list</th>\n",
       "      <th>funding_total_usd</th>\n",
       "      <th>country_code</th>\n",
       "      <th>state_code</th>\n",
       "      <th>founded_at</th>\n",
       "      <th>funding_rounds</th>\n",
       "      <th>first_funding_at</th>\n",
       "      <th>last_funding_at</th>\n",
       "      <th>status_binary</th>\n",
       "    </tr>\n",
       "  </thead>\n",
       "  <tbody>\n",
       "    <tr>\n",
       "      <th>0</th>\n",
       "      <td>1 mainstream</td>\n",
       "      <td>['Apps', 'Cable', 'Distribution', 'Software']</td>\n",
       "      <td>5000000.0</td>\n",
       "      <td>USA</td>\n",
       "      <td>CA</td>\n",
       "      <td>2012-03-01</td>\n",
       "      <td>1</td>\n",
       "      <td>2015-03-17</td>\n",
       "      <td>2015-03-17</td>\n",
       "      <td>1</td>\n",
       "    </tr>\n",
       "    <tr>\n",
       "      <th>1</th>\n",
       "      <td>1000 markets</td>\n",
       "      <td>['Art', 'E-Commerce', 'Marketplaces']</td>\n",
       "      <td>500000.0</td>\n",
       "      <td>USA</td>\n",
       "      <td>WA</td>\n",
       "      <td>2009-01-01</td>\n",
       "      <td>1</td>\n",
       "      <td>2009-05-15</td>\n",
       "      <td>2009-05-15</td>\n",
       "      <td>1</td>\n",
       "    </tr>\n",
       "    <tr>\n",
       "      <th>2</th>\n",
       "      <td>1000memories</td>\n",
       "      <td>['Curated Web']</td>\n",
       "      <td>2535000.0</td>\n",
       "      <td>USA</td>\n",
       "      <td>CA</td>\n",
       "      <td>2010-07-01</td>\n",
       "      <td>2</td>\n",
       "      <td>2010-01-01</td>\n",
       "      <td>2011-02-16</td>\n",
       "      <td>1</td>\n",
       "    </tr>\n",
       "    <tr>\n",
       "      <th>3</th>\n",
       "      <td>100plus</td>\n",
       "      <td>['Analytics']</td>\n",
       "      <td>1250000.0</td>\n",
       "      <td>USA</td>\n",
       "      <td>CA</td>\n",
       "      <td>2011-09-16</td>\n",
       "      <td>2</td>\n",
       "      <td>2011-11-02</td>\n",
       "      <td>2011-11-30</td>\n",
       "      <td>1</td>\n",
       "    </tr>\n",
       "    <tr>\n",
       "      <th>4</th>\n",
       "      <td>1010data</td>\n",
       "      <td>['Software']</td>\n",
       "      <td>35000000.0</td>\n",
       "      <td>USA</td>\n",
       "      <td>NY</td>\n",
       "      <td>2000-01-01</td>\n",
       "      <td>1</td>\n",
       "      <td>2010-03-08</td>\n",
       "      <td>2010-03-08</td>\n",
       "      <td>1</td>\n",
       "    </tr>\n",
       "  </tbody>\n",
       "</table>\n",
       "</div>"
      ],
      "text/plain": [
       "           name                                  category_list  \\\n",
       "0  1 mainstream  ['Apps', 'Cable', 'Distribution', 'Software']   \n",
       "1  1000 markets          ['Art', 'E-Commerce', 'Marketplaces']   \n",
       "2  1000memories                                ['Curated Web']   \n",
       "3       100plus                                  ['Analytics']   \n",
       "4      1010data                                   ['Software']   \n",
       "\n",
       "   funding_total_usd country_code state_code  founded_at  funding_rounds  \\\n",
       "0          5000000.0          USA         CA  2012-03-01               1   \n",
       "1           500000.0          USA         WA  2009-01-01               1   \n",
       "2          2535000.0          USA         CA  2010-07-01               2   \n",
       "3          1250000.0          USA         CA  2011-09-16               2   \n",
       "4         35000000.0          USA         NY  2000-01-01               1   \n",
       "\n",
       "  first_funding_at last_funding_at  status_binary  \n",
       "0       2015-03-17      2015-03-17              1  \n",
       "1       2009-05-15      2009-05-15              1  \n",
       "2       2010-01-01      2011-02-16              1  \n",
       "3       2011-11-02      2011-11-30              1  \n",
       "4       2010-03-08      2010-03-08              1  "
      ]
     },
     "execution_count": 2,
     "metadata": {},
     "output_type": "execute_result"
    }
   ],
   "source": [
    "df = pd.read_csv(\"final_startup_dataset_v4.csv\")\n",
    "df.head()"
   ]
  },
  {
   "cell_type": "code",
   "execution_count": 3,
   "metadata": {},
   "outputs": [
    {
     "name": "stdout",
     "output_type": "stream",
     "text": [
      "<class 'pandas.core.frame.DataFrame'>\n",
      "RangeIndex: 12267 entries, 0 to 12266\n",
      "Data columns (total 10 columns):\n",
      " #   Column             Non-Null Count  Dtype  \n",
      "---  ------             --------------  -----  \n",
      " 0   name               12267 non-null  object \n",
      " 1   category_list      12267 non-null  object \n",
      " 2   funding_total_usd  12262 non-null  float64\n",
      " 3   country_code       12267 non-null  object \n",
      " 4   state_code         12267 non-null  object \n",
      " 5   founded_at         12267 non-null  object \n",
      " 6   funding_rounds     12267 non-null  int64  \n",
      " 7   first_funding_at   12267 non-null  object \n",
      " 8   last_funding_at    12267 non-null  object \n",
      " 9   status_binary      12267 non-null  int64  \n",
      "dtypes: float64(1), int64(2), object(7)\n",
      "memory usage: 958.5+ KB\n"
     ]
    }
   ],
   "source": [
    "df.info()"
   ]
  },
  {
   "cell_type": "code",
   "execution_count": 4,
   "metadata": {},
   "outputs": [
    {
     "data": {
      "text/plain": [
       "name                 0\n",
       "category_list        0\n",
       "funding_total_usd    5\n",
       "country_code         0\n",
       "state_code           0\n",
       "founded_at           0\n",
       "funding_rounds       0\n",
       "first_funding_at     0\n",
       "last_funding_at      0\n",
       "status_binary        0\n",
       "dtype: int64"
      ]
     },
     "execution_count": 4,
     "metadata": {},
     "output_type": "execute_result"
    }
   ],
   "source": [
    "df.isna().sum()"
   ]
  },
  {
   "cell_type": "code",
   "execution_count": 5,
   "metadata": {},
   "outputs": [],
   "source": [
    "df.dropna(inplace=True)"
   ]
  },
  {
   "cell_type": "code",
   "execution_count": 6,
   "metadata": {},
   "outputs": [
    {
     "data": {
      "text/plain": [
       "name                 0\n",
       "category_list        0\n",
       "funding_total_usd    0\n",
       "country_code         0\n",
       "state_code           0\n",
       "founded_at           0\n",
       "funding_rounds       0\n",
       "first_funding_at     0\n",
       "last_funding_at      0\n",
       "status_binary        0\n",
       "dtype: int64"
      ]
     },
     "execution_count": 6,
     "metadata": {},
     "output_type": "execute_result"
    }
   ],
   "source": [
    "df.isna().sum()"
   ]
  },
  {
   "cell_type": "code",
   "execution_count": 7,
   "metadata": {},
   "outputs": [
    {
     "data": {
      "text/plain": [
       "(12262, 10)"
      ]
     },
     "execution_count": 7,
     "metadata": {},
     "output_type": "execute_result"
    }
   ],
   "source": [
    "df.shape"
   ]
  },
  {
   "cell_type": "code",
   "execution_count": 8,
   "metadata": {},
   "outputs": [],
   "source": [
    "import ast\n",
    "df[\"category_list\"] = df[\"category_list\"].apply(lambda x: ast.literal_eval(x) if isinstance(x, str) else [])\n",
    "categories = df[\"category_list\"].explode()\n",
    "category_counts = categories.value_counts()\n",
    "categories_to_keep = category_counts[category_counts >= 200].index.tolist()\n",
    "for category in categories_to_keep:\n",
    "    df[category] = df[\"category_list\"].apply(lambda x: 1 if category in x else 0)\n",
    "df.drop(columns=[\"category_list\"], inplace=True)"
   ]
  },
  {
   "cell_type": "code",
   "execution_count": 9,
   "metadata": {},
   "outputs": [
    {
     "data": {
      "text/html": [
       "<div>\n",
       "<style scoped>\n",
       "    .dataframe tbody tr th:only-of-type {\n",
       "        vertical-align: middle;\n",
       "    }\n",
       "\n",
       "    .dataframe tbody tr th {\n",
       "        vertical-align: top;\n",
       "    }\n",
       "\n",
       "    .dataframe thead th {\n",
       "        text-align: right;\n",
       "    }\n",
       "</style>\n",
       "<table border=\"1\" class=\"dataframe\">\n",
       "  <thead>\n",
       "    <tr style=\"text-align: right;\">\n",
       "      <th></th>\n",
       "      <th>name</th>\n",
       "      <th>funding_total_usd</th>\n",
       "      <th>country_code</th>\n",
       "      <th>state_code</th>\n",
       "      <th>founded_at</th>\n",
       "      <th>funding_rounds</th>\n",
       "      <th>first_funding_at</th>\n",
       "      <th>last_funding_at</th>\n",
       "      <th>status_binary</th>\n",
       "      <th>Software</th>\n",
       "      <th>...</th>\n",
       "      <th>Security</th>\n",
       "      <th>Clean Technology</th>\n",
       "      <th>Semiconductors</th>\n",
       "      <th>Apps</th>\n",
       "      <th>Health and Wellness</th>\n",
       "      <th>SaaS</th>\n",
       "      <th>Web Hosting</th>\n",
       "      <th>Video</th>\n",
       "      <th>Networking</th>\n",
       "      <th>Social Network Media</th>\n",
       "    </tr>\n",
       "  </thead>\n",
       "  <tbody>\n",
       "    <tr>\n",
       "      <th>0</th>\n",
       "      <td>1 mainstream</td>\n",
       "      <td>5000000.0</td>\n",
       "      <td>USA</td>\n",
       "      <td>CA</td>\n",
       "      <td>2012-03-01</td>\n",
       "      <td>1</td>\n",
       "      <td>2015-03-17</td>\n",
       "      <td>2015-03-17</td>\n",
       "      <td>1</td>\n",
       "      <td>1</td>\n",
       "      <td>...</td>\n",
       "      <td>0</td>\n",
       "      <td>0</td>\n",
       "      <td>0</td>\n",
       "      <td>1</td>\n",
       "      <td>0</td>\n",
       "      <td>0</td>\n",
       "      <td>0</td>\n",
       "      <td>0</td>\n",
       "      <td>0</td>\n",
       "      <td>0</td>\n",
       "    </tr>\n",
       "    <tr>\n",
       "      <th>1</th>\n",
       "      <td>1000 markets</td>\n",
       "      <td>500000.0</td>\n",
       "      <td>USA</td>\n",
       "      <td>WA</td>\n",
       "      <td>2009-01-01</td>\n",
       "      <td>1</td>\n",
       "      <td>2009-05-15</td>\n",
       "      <td>2009-05-15</td>\n",
       "      <td>1</td>\n",
       "      <td>0</td>\n",
       "      <td>...</td>\n",
       "      <td>0</td>\n",
       "      <td>0</td>\n",
       "      <td>0</td>\n",
       "      <td>0</td>\n",
       "      <td>0</td>\n",
       "      <td>0</td>\n",
       "      <td>0</td>\n",
       "      <td>0</td>\n",
       "      <td>0</td>\n",
       "      <td>0</td>\n",
       "    </tr>\n",
       "    <tr>\n",
       "      <th>2</th>\n",
       "      <td>1000memories</td>\n",
       "      <td>2535000.0</td>\n",
       "      <td>USA</td>\n",
       "      <td>CA</td>\n",
       "      <td>2010-07-01</td>\n",
       "      <td>2</td>\n",
       "      <td>2010-01-01</td>\n",
       "      <td>2011-02-16</td>\n",
       "      <td>1</td>\n",
       "      <td>0</td>\n",
       "      <td>...</td>\n",
       "      <td>0</td>\n",
       "      <td>0</td>\n",
       "      <td>0</td>\n",
       "      <td>0</td>\n",
       "      <td>0</td>\n",
       "      <td>0</td>\n",
       "      <td>0</td>\n",
       "      <td>0</td>\n",
       "      <td>0</td>\n",
       "      <td>0</td>\n",
       "    </tr>\n",
       "    <tr>\n",
       "      <th>3</th>\n",
       "      <td>100plus</td>\n",
       "      <td>1250000.0</td>\n",
       "      <td>USA</td>\n",
       "      <td>CA</td>\n",
       "      <td>2011-09-16</td>\n",
       "      <td>2</td>\n",
       "      <td>2011-11-02</td>\n",
       "      <td>2011-11-30</td>\n",
       "      <td>1</td>\n",
       "      <td>0</td>\n",
       "      <td>...</td>\n",
       "      <td>0</td>\n",
       "      <td>0</td>\n",
       "      <td>0</td>\n",
       "      <td>0</td>\n",
       "      <td>0</td>\n",
       "      <td>0</td>\n",
       "      <td>0</td>\n",
       "      <td>0</td>\n",
       "      <td>0</td>\n",
       "      <td>0</td>\n",
       "    </tr>\n",
       "    <tr>\n",
       "      <th>4</th>\n",
       "      <td>1010data</td>\n",
       "      <td>35000000.0</td>\n",
       "      <td>USA</td>\n",
       "      <td>NY</td>\n",
       "      <td>2000-01-01</td>\n",
       "      <td>1</td>\n",
       "      <td>2010-03-08</td>\n",
       "      <td>2010-03-08</td>\n",
       "      <td>1</td>\n",
       "      <td>1</td>\n",
       "      <td>...</td>\n",
       "      <td>0</td>\n",
       "      <td>0</td>\n",
       "      <td>0</td>\n",
       "      <td>0</td>\n",
       "      <td>0</td>\n",
       "      <td>0</td>\n",
       "      <td>0</td>\n",
       "      <td>0</td>\n",
       "      <td>0</td>\n",
       "      <td>0</td>\n",
       "    </tr>\n",
       "  </tbody>\n",
       "</table>\n",
       "<p>5 rows × 35 columns</p>\n",
       "</div>"
      ],
      "text/plain": [
       "           name  funding_total_usd country_code state_code  founded_at  \\\n",
       "0  1 mainstream          5000000.0          USA         CA  2012-03-01   \n",
       "1  1000 markets           500000.0          USA         WA  2009-01-01   \n",
       "2  1000memories          2535000.0          USA         CA  2010-07-01   \n",
       "3       100plus          1250000.0          USA         CA  2011-09-16   \n",
       "4      1010data         35000000.0          USA         NY  2000-01-01   \n",
       "\n",
       "   funding_rounds first_funding_at last_funding_at  status_binary  Software  \\\n",
       "0               1       2015-03-17      2015-03-17              1         1   \n",
       "1               1       2009-05-15      2009-05-15              1         0   \n",
       "2               2       2010-01-01      2011-02-16              1         0   \n",
       "3               2       2011-11-02      2011-11-30              1         0   \n",
       "4               1       2010-03-08      2010-03-08              1         1   \n",
       "\n",
       "   ...  Security  Clean Technology  Semiconductors  Apps  Health and Wellness  \\\n",
       "0  ...         0                 0               0     1                    0   \n",
       "1  ...         0                 0               0     0                    0   \n",
       "2  ...         0                 0               0     0                    0   \n",
       "3  ...         0                 0               0     0                    0   \n",
       "4  ...         0                 0               0     0                    0   \n",
       "\n",
       "   SaaS  Web Hosting  Video  Networking  Social Network Media  \n",
       "0     0            0      0           0                     0  \n",
       "1     0            0      0           0                     0  \n",
       "2     0            0      0           0                     0  \n",
       "3     0            0      0           0                     0  \n",
       "4     0            0      0           0                     0  \n",
       "\n",
       "[5 rows x 35 columns]"
      ]
     },
     "execution_count": 9,
     "metadata": {},
     "output_type": "execute_result"
    }
   ],
   "source": [
    "df.head()"
   ]
  },
  {
   "cell_type": "code",
   "execution_count": 10,
   "metadata": {},
   "outputs": [
    {
     "data": {
      "text/plain": [
       "(12262, 35)"
      ]
     },
     "execution_count": 10,
     "metadata": {},
     "output_type": "execute_result"
    }
   ],
   "source": [
    "df.shape"
   ]
  },
  {
   "cell_type": "code",
   "execution_count": 11,
   "metadata": {},
   "outputs": [
    {
     "data": {
      "text/plain": [
       "Software\n",
       "0    10376\n",
       "1     1886\n",
       "Name: count, dtype: int64"
      ]
     },
     "execution_count": 11,
     "metadata": {},
     "output_type": "execute_result"
    }
   ],
   "source": [
    "df['Software'].value_counts()"
   ]
  },
  {
   "cell_type": "code",
   "execution_count": 12,
   "metadata": {},
   "outputs": [
    {
     "data": {
      "text/plain": [
       "Games\n",
       "0    11733\n",
       "1      529\n",
       "Name: count, dtype: int64"
      ]
     },
     "execution_count": 12,
     "metadata": {},
     "output_type": "execute_result"
    }
   ],
   "source": [
    "df['Games'].value_counts()"
   ]
  },
  {
   "cell_type": "code",
   "execution_count": 13,
   "metadata": {},
   "outputs": [
    {
     "data": {
      "text/html": [
       "<div>\n",
       "<style scoped>\n",
       "    .dataframe tbody tr th:only-of-type {\n",
       "        vertical-align: middle;\n",
       "    }\n",
       "\n",
       "    .dataframe tbody tr th {\n",
       "        vertical-align: top;\n",
       "    }\n",
       "\n",
       "    .dataframe thead th {\n",
       "        text-align: right;\n",
       "    }\n",
       "</style>\n",
       "<table border=\"1\" class=\"dataframe\">\n",
       "  <thead>\n",
       "    <tr style=\"text-align: right;\">\n",
       "      <th></th>\n",
       "      <th>name</th>\n",
       "      <th>funding_total_usd</th>\n",
       "      <th>country_code</th>\n",
       "      <th>state_code</th>\n",
       "      <th>founded_at</th>\n",
       "      <th>funding_rounds</th>\n",
       "      <th>first_funding_at</th>\n",
       "      <th>last_funding_at</th>\n",
       "      <th>status_binary</th>\n",
       "      <th>Software</th>\n",
       "      <th>...</th>\n",
       "      <th>Semiconductors</th>\n",
       "      <th>Apps</th>\n",
       "      <th>Health and Wellness</th>\n",
       "      <th>SaaS</th>\n",
       "      <th>Web Hosting</th>\n",
       "      <th>Video</th>\n",
       "      <th>Networking</th>\n",
       "      <th>Social Network Media</th>\n",
       "      <th>age_at_first_funding</th>\n",
       "      <th>age_at_last_funding</th>\n",
       "    </tr>\n",
       "  </thead>\n",
       "  <tbody>\n",
       "    <tr>\n",
       "      <th>0</th>\n",
       "      <td>1 mainstream</td>\n",
       "      <td>5000000.0</td>\n",
       "      <td>USA</td>\n",
       "      <td>CA</td>\n",
       "      <td>2012-03-01</td>\n",
       "      <td>1</td>\n",
       "      <td>2015-03-17</td>\n",
       "      <td>2015-03-17</td>\n",
       "      <td>1</td>\n",
       "      <td>1</td>\n",
       "      <td>...</td>\n",
       "      <td>0</td>\n",
       "      <td>1</td>\n",
       "      <td>0</td>\n",
       "      <td>0</td>\n",
       "      <td>0</td>\n",
       "      <td>0</td>\n",
       "      <td>0</td>\n",
       "      <td>0</td>\n",
       "      <td>3</td>\n",
       "      <td>3</td>\n",
       "    </tr>\n",
       "    <tr>\n",
       "      <th>1</th>\n",
       "      <td>1000 markets</td>\n",
       "      <td>500000.0</td>\n",
       "      <td>USA</td>\n",
       "      <td>WA</td>\n",
       "      <td>2009-01-01</td>\n",
       "      <td>1</td>\n",
       "      <td>2009-05-15</td>\n",
       "      <td>2009-05-15</td>\n",
       "      <td>1</td>\n",
       "      <td>0</td>\n",
       "      <td>...</td>\n",
       "      <td>0</td>\n",
       "      <td>0</td>\n",
       "      <td>0</td>\n",
       "      <td>0</td>\n",
       "      <td>0</td>\n",
       "      <td>0</td>\n",
       "      <td>0</td>\n",
       "      <td>0</td>\n",
       "      <td>0</td>\n",
       "      <td>0</td>\n",
       "    </tr>\n",
       "    <tr>\n",
       "      <th>2</th>\n",
       "      <td>1000memories</td>\n",
       "      <td>2535000.0</td>\n",
       "      <td>USA</td>\n",
       "      <td>CA</td>\n",
       "      <td>2010-07-01</td>\n",
       "      <td>2</td>\n",
       "      <td>2010-01-01</td>\n",
       "      <td>2011-02-16</td>\n",
       "      <td>1</td>\n",
       "      <td>0</td>\n",
       "      <td>...</td>\n",
       "      <td>0</td>\n",
       "      <td>0</td>\n",
       "      <td>0</td>\n",
       "      <td>0</td>\n",
       "      <td>0</td>\n",
       "      <td>0</td>\n",
       "      <td>0</td>\n",
       "      <td>0</td>\n",
       "      <td>-1</td>\n",
       "      <td>0</td>\n",
       "    </tr>\n",
       "    <tr>\n",
       "      <th>3</th>\n",
       "      <td>100plus</td>\n",
       "      <td>1250000.0</td>\n",
       "      <td>USA</td>\n",
       "      <td>CA</td>\n",
       "      <td>2011-09-16</td>\n",
       "      <td>2</td>\n",
       "      <td>2011-11-02</td>\n",
       "      <td>2011-11-30</td>\n",
       "      <td>1</td>\n",
       "      <td>0</td>\n",
       "      <td>...</td>\n",
       "      <td>0</td>\n",
       "      <td>0</td>\n",
       "      <td>0</td>\n",
       "      <td>0</td>\n",
       "      <td>0</td>\n",
       "      <td>0</td>\n",
       "      <td>0</td>\n",
       "      <td>0</td>\n",
       "      <td>0</td>\n",
       "      <td>0</td>\n",
       "    </tr>\n",
       "    <tr>\n",
       "      <th>4</th>\n",
       "      <td>1010data</td>\n",
       "      <td>35000000.0</td>\n",
       "      <td>USA</td>\n",
       "      <td>NY</td>\n",
       "      <td>2000-01-01</td>\n",
       "      <td>1</td>\n",
       "      <td>2010-03-08</td>\n",
       "      <td>2010-03-08</td>\n",
       "      <td>1</td>\n",
       "      <td>1</td>\n",
       "      <td>...</td>\n",
       "      <td>0</td>\n",
       "      <td>0</td>\n",
       "      <td>0</td>\n",
       "      <td>0</td>\n",
       "      <td>0</td>\n",
       "      <td>0</td>\n",
       "      <td>0</td>\n",
       "      <td>0</td>\n",
       "      <td>10</td>\n",
       "      <td>10</td>\n",
       "    </tr>\n",
       "  </tbody>\n",
       "</table>\n",
       "<p>5 rows × 37 columns</p>\n",
       "</div>"
      ],
      "text/plain": [
       "           name  funding_total_usd country_code state_code founded_at  \\\n",
       "0  1 mainstream          5000000.0          USA         CA 2012-03-01   \n",
       "1  1000 markets           500000.0          USA         WA 2009-01-01   \n",
       "2  1000memories          2535000.0          USA         CA 2010-07-01   \n",
       "3       100plus          1250000.0          USA         CA 2011-09-16   \n",
       "4      1010data         35000000.0          USA         NY 2000-01-01   \n",
       "\n",
       "   funding_rounds first_funding_at last_funding_at  status_binary  Software  \\\n",
       "0               1       2015-03-17      2015-03-17              1         1   \n",
       "1               1       2009-05-15      2009-05-15              1         0   \n",
       "2               2       2010-01-01      2011-02-16              1         0   \n",
       "3               2       2011-11-02      2011-11-30              1         0   \n",
       "4               1       2010-03-08      2010-03-08              1         1   \n",
       "\n",
       "   ...  Semiconductors  Apps  Health and Wellness  SaaS  Web Hosting  Video  \\\n",
       "0  ...               0     1                    0     0            0      0   \n",
       "1  ...               0     0                    0     0            0      0   \n",
       "2  ...               0     0                    0     0            0      0   \n",
       "3  ...               0     0                    0     0            0      0   \n",
       "4  ...               0     0                    0     0            0      0   \n",
       "\n",
       "   Networking  Social Network Media  age_at_first_funding  age_at_last_funding  \n",
       "0           0                     0                     3                    3  \n",
       "1           0                     0                     0                    0  \n",
       "2           0                     0                    -1                    0  \n",
       "3           0                     0                     0                    0  \n",
       "4           0                     0                    10                   10  \n",
       "\n",
       "[5 rows x 37 columns]"
      ]
     },
     "execution_count": 13,
     "metadata": {},
     "output_type": "execute_result"
    }
   ],
   "source": [
    "import pandas as pd\n",
    "\n",
    "# Convert columns to datetime with the specific format 'DD-MM-YYYY'\n",
    "df['founded_at'] = pd.to_datetime(df['founded_at'], format='%Y-%m-%d', errors='coerce')\n",
    "df['first_funding_at'] = pd.to_datetime(df['first_funding_at'], format='%Y-%m-%d', errors='coerce')\n",
    "df['last_funding_at'] = pd.to_datetime(df['last_funding_at'], format='%Y-%m-%d', errors='coerce')\n",
    "\n",
    "# Calculate the age at first funding (difference between first funding date and founding date)\n",
    "df['age_at_first_funding'] = (df['first_funding_at'] - df['founded_at']).dt.days // 365\n",
    "\n",
    "# Calculate the age at last funding (difference between last funding date and founding date)\n",
    "df['age_at_last_funding'] = (df['last_funding_at'] - df['founded_at']).dt.days // 365\n",
    "\n",
    "df.head()\n"
   ]
  },
  {
   "cell_type": "code",
   "execution_count": 14,
   "metadata": {},
   "outputs": [
    {
     "data": {
      "text/plain": [
       "(12262, 37)"
      ]
     },
     "execution_count": 14,
     "metadata": {},
     "output_type": "execute_result"
    }
   ],
   "source": [
    "df.shape"
   ]
  },
  {
   "cell_type": "code",
   "execution_count": 15,
   "metadata": {},
   "outputs": [
    {
     "data": {
      "text/plain": [
       "735"
      ]
     },
     "execution_count": 15,
     "metadata": {},
     "output_type": "execute_result"
    }
   ],
   "source": [
    "df[df[\"age_at_first_funding\"] < 0].shape[0]"
   ]
  },
  {
   "cell_type": "code",
   "execution_count": 16,
   "metadata": {},
   "outputs": [
    {
     "data": {
      "text/plain": [
       "396"
      ]
     },
     "execution_count": 16,
     "metadata": {},
     "output_type": "execute_result"
    }
   ],
   "source": [
    "df[df[\"age_at_last_funding\"] < 0].shape[0]"
   ]
  },
  {
   "cell_type": "code",
   "execution_count": 17,
   "metadata": {},
   "outputs": [],
   "source": [
    "df = df[df[\"age_at_first_funding\"] >= 0]\n",
    "df = df[df[\"age_at_first_funding\"] >= 0]"
   ]
  },
  {
   "cell_type": "code",
   "execution_count": 18,
   "metadata": {},
   "outputs": [
    {
     "data": {
      "text/plain": [
       "(11527, 37)"
      ]
     },
     "execution_count": 18,
     "metadata": {},
     "output_type": "execute_result"
    }
   ],
   "source": [
    "df.shape"
   ]
  },
  {
   "cell_type": "code",
   "execution_count": 19,
   "metadata": {},
   "outputs": [],
   "source": [
    "#df.to_csv(\"final_startup_dataset_v3.csv\", index=False)"
   ]
  },
  {
   "cell_type": "code",
   "execution_count": 19,
   "metadata": {},
   "outputs": [
    {
     "name": "stdout",
     "output_type": "stream",
     "text": [
      "<class 'pandas.core.frame.DataFrame'>\n",
      "Index: 11527 entries, 0 to 12266\n",
      "Data columns (total 37 columns):\n",
      " #   Column                Non-Null Count  Dtype         \n",
      "---  ------                --------------  -----         \n",
      " 0   name                  11527 non-null  object        \n",
      " 1   funding_total_usd     11527 non-null  float64       \n",
      " 2   country_code          11527 non-null  object        \n",
      " 3   state_code            11527 non-null  object        \n",
      " 4   founded_at            11527 non-null  datetime64[ns]\n",
      " 5   funding_rounds        11527 non-null  int64         \n",
      " 6   first_funding_at      11527 non-null  datetime64[ns]\n",
      " 7   last_funding_at       11527 non-null  datetime64[ns]\n",
      " 8   status_binary         11527 non-null  int64         \n",
      " 9   Software              11527 non-null  int64         \n",
      " 10  Biotechnology         11527 non-null  int64         \n",
      " 11  Mobile                11527 non-null  int64         \n",
      " 12  Curated Web           11527 non-null  int64         \n",
      " 13  E-Commerce            11527 non-null  int64         \n",
      " 14  Social Media          11527 non-null  int64         \n",
      " 15  Advertising           11527 non-null  int64         \n",
      " 16  Enterprise Software   11527 non-null  int64         \n",
      " 17  Games                 11527 non-null  int64         \n",
      " 18  Health Care           11527 non-null  int64         \n",
      " 19  Services              11527 non-null  int64         \n",
      " 20  Internet              11527 non-null  int64         \n",
      " 21  Technology            11527 non-null  int64         \n",
      " 22  Finance               11527 non-null  int64         \n",
      " 23  Analytics             11527 non-null  int64         \n",
      " 24  Hardware + Software   11527 non-null  int64         \n",
      " 25  Security              11527 non-null  int64         \n",
      " 26  Clean Technology      11527 non-null  int64         \n",
      " 27  Semiconductors        11527 non-null  int64         \n",
      " 28  Apps                  11527 non-null  int64         \n",
      " 29  Health and Wellness   11527 non-null  int64         \n",
      " 30  SaaS                  11527 non-null  int64         \n",
      " 31  Web Hosting           11527 non-null  int64         \n",
      " 32  Video                 11527 non-null  int64         \n",
      " 33  Networking            11527 non-null  int64         \n",
      " 34  Social Network Media  11527 non-null  int64         \n",
      " 35  age_at_first_funding  11527 non-null  int64         \n",
      " 36  age_at_last_funding   11527 non-null  int64         \n",
      "dtypes: datetime64[ns](3), float64(1), int64(30), object(3)\n",
      "memory usage: 3.3+ MB\n"
     ]
    }
   ],
   "source": [
    "df.info()"
   ]
  },
  {
   "cell_type": "code",
   "execution_count": 20,
   "metadata": {},
   "outputs": [],
   "source": [
    "df.drop(columns=[\"founded_at\", \"first_funding_at\", \"last_funding_at\"], inplace=True)"
   ]
  },
  {
   "cell_type": "code",
   "execution_count": 21,
   "metadata": {},
   "outputs": [
    {
     "name": "stdout",
     "output_type": "stream",
     "text": [
      "<class 'pandas.core.frame.DataFrame'>\n",
      "Index: 11527 entries, 0 to 12266\n",
      "Data columns (total 34 columns):\n",
      " #   Column                Non-Null Count  Dtype  \n",
      "---  ------                --------------  -----  \n",
      " 0   name                  11527 non-null  object \n",
      " 1   funding_total_usd     11527 non-null  float64\n",
      " 2   country_code          11527 non-null  object \n",
      " 3   state_code            11527 non-null  object \n",
      " 4   funding_rounds        11527 non-null  int64  \n",
      " 5   status_binary         11527 non-null  int64  \n",
      " 6   Software              11527 non-null  int64  \n",
      " 7   Biotechnology         11527 non-null  int64  \n",
      " 8   Mobile                11527 non-null  int64  \n",
      " 9   Curated Web           11527 non-null  int64  \n",
      " 10  E-Commerce            11527 non-null  int64  \n",
      " 11  Social Media          11527 non-null  int64  \n",
      " 12  Advertising           11527 non-null  int64  \n",
      " 13  Enterprise Software   11527 non-null  int64  \n",
      " 14  Games                 11527 non-null  int64  \n",
      " 15  Health Care           11527 non-null  int64  \n",
      " 16  Services              11527 non-null  int64  \n",
      " 17  Internet              11527 non-null  int64  \n",
      " 18  Technology            11527 non-null  int64  \n",
      " 19  Finance               11527 non-null  int64  \n",
      " 20  Analytics             11527 non-null  int64  \n",
      " 21  Hardware + Software   11527 non-null  int64  \n",
      " 22  Security              11527 non-null  int64  \n",
      " 23  Clean Technology      11527 non-null  int64  \n",
      " 24  Semiconductors        11527 non-null  int64  \n",
      " 25  Apps                  11527 non-null  int64  \n",
      " 26  Health and Wellness   11527 non-null  int64  \n",
      " 27  SaaS                  11527 non-null  int64  \n",
      " 28  Web Hosting           11527 non-null  int64  \n",
      " 29  Video                 11527 non-null  int64  \n",
      " 30  Networking            11527 non-null  int64  \n",
      " 31  Social Network Media  11527 non-null  int64  \n",
      " 32  age_at_first_funding  11527 non-null  int64  \n",
      " 33  age_at_last_funding   11527 non-null  int64  \n",
      "dtypes: float64(1), int64(30), object(3)\n",
      "memory usage: 3.1+ MB\n"
     ]
    }
   ],
   "source": [
    "df.info()"
   ]
  },
  {
   "cell_type": "code",
   "execution_count": 22,
   "metadata": {},
   "outputs": [
    {
     "name": "stdout",
     "output_type": "stream",
     "text": [
      "0\n"
     ]
    }
   ],
   "source": [
    "dash_count = (df['funding_total_usd'] == '-').sum()\n",
    "print(dash_count)"
   ]
  },
  {
   "cell_type": "code",
   "execution_count": 23,
   "metadata": {},
   "outputs": [],
   "source": [
    "from sklearn.preprocessing import LabelEncoder\n",
    "df = df.drop('name', axis=1)\n",
    "df['funding_total_usd'] = df['funding_total_usd'].astype(float)\n",
    "\n",
    "\n",
    "country_encoders = {}\n",
    "state_encoders = {}\n",
    "le_country = LabelEncoder()\n",
    "df['country_code'] = le_country.fit_transform(df['country_code'])\n",
    "country_encoders['country_code'] = le_country\n",
    "\n",
    "le_state = LabelEncoder()\n",
    "df['state_code'] = le_state.fit_transform(df['state_code'])\n",
    "state_encoders['state_code'] = le_state"
   ]
  },
  {
   "cell_type": "code",
   "execution_count": 26,
   "metadata": {},
   "outputs": [
    {
     "data": {
      "text/plain": [
       "status_binary\n",
       "1    6668\n",
       "0    4859\n",
       "Name: count, dtype: int64"
      ]
     },
     "execution_count": 26,
     "metadata": {},
     "output_type": "execute_result"
    }
   ],
   "source": [
    "df['status_binary'].value_counts()"
   ]
  },
  {
   "cell_type": "code",
   "execution_count": 27,
   "metadata": {},
   "outputs": [],
   "source": [
    "from sklearn.model_selection import train_test_split\n",
    "\n",
    "X_train, X_test, y_train, y_test = train_test_split(df.drop(columns=[\"status_binary\"]), df[\"status_binary\"], test_size=0.2, random_state=42, stratify=df[\"status_binary\"])"
   ]
  },
  {
   "cell_type": "code",
   "execution_count": null,
   "metadata": {},
   "outputs": [
    {
     "name": "stdout",
     "output_type": "stream",
     "text": [
      "Accuracy of Random Forest model (test): 0.72\n",
      "Accuracy of Random Forest model (train): 0.77\n"
     ]
    }
   ],
   "source": [
    "from sklearn.ensemble import RandomForestClassifier\n",
    "from sklearn.metrics import accuracy_score\n",
    "from sklearn.metrics import precision_score, recall_score, f1_score\n",
    "\n",
    "rf_model = RandomForestClassifier(n_estimators=100, random_state=42, max_depth=10)\n",
    "\n",
    "# Train the model using the training data\n",
    "rf_model.fit(X_train, y_train)\n",
    "\n",
    "# Predict on the test set\n",
    "y_pred_test = rf_model.predict(X_test)\n",
    "\n",
    "# Evaluate the model performance on the test set\n",
    "accuracy_test = accuracy_score(y_test, y_pred_test)\n",
    "\n",
    "print(f\"Accuracy of Random Forest model (test): {accuracy_test:.2f}\")\n",
    "\n",
    "# Predict on the training set\n",
    "y_pred_train = rf_model.predict(X_train)\n",
    "\n",
    "# Evaluate the model performance on the training set\n",
    "accuracy_train = accuracy_score(y_train, y_pred_train)\n",
    "\n",
    "print(f\"Accuracy of Random Forest model (train): {accuracy_train:.2f}\")\n",
    "\n",
    "# Calculate precision, recall, and F1 score on the test set\n",
    "precision_test = precision_score(y_test, y_pred_test, average='binary')\n",
    "recall_test = recall_score(y_test, y_pred_test, average='binary')\n",
    "f1_test = f1_score(y_test, y_pred_test, average='binary')\n",
    "\n",
    "print(f\"Precision of Random Forest model (test): {precision_test:.2f}\")\n",
    "print(f\"Recall of Random Forest model (test): {recall_test:.2f}\")\n",
    "print(f\"F1 Score of Random Forest model (test): {f1_test:.2f}\")"
   ]
  },
  {
   "cell_type": "code",
   "execution_count": null,
   "metadata": {},
   "outputs": [
    {
     "name": "stdout",
     "output_type": "stream",
     "text": [
      "Accuracy of Decision Tree model (test): 0.70\n",
      "Accuracy of Decision Tree model (train): 0.79\n"
     ]
    }
   ],
   "source": [
    "from sklearn.tree import DecisionTreeClassifier\n",
    "from sklearn.metrics import accuracy_score\n",
    "\n",
    "# Create a Decision Tree model\n",
    "dt_model = DecisionTreeClassifier(random_state=42, max_depth=10)\n",
    "\n",
    "# Train the model using the training data\n",
    "dt_model.fit(X_train, y_train)\n",
    "\n",
    "# Predict on the test set\n",
    "y_pred_test = dt_model.predict(X_test)\n",
    "\n",
    "# Evaluate the model performance on the test set\n",
    "accuracy_test = accuracy_score(y_test, y_pred_test)\n",
    "\n",
    "print(f\"Accuracy of Decision Tree model (test): {accuracy_test:.2f}\")\n",
    "\n",
    "# Predict on the training set\n",
    "y_pred_train = dt_model.predict(X_train)\n",
    "\n",
    "# Evaluate the model performance on the training set\n",
    "accuracy_train = accuracy_score(y_train, y_pred_train)\n",
    "\n",
    "print(f\"Accuracy of Decision Tree model (train): {accuracy_train:.2f}\")\n",
    "\n",
    "# Calculate precision, recall, and F1 score on the test set\n",
    "precision_test = precision_score(y_test, y_pred_test, average='binary')\n",
    "recall_test = recall_score(y_test, y_pred_test, average='binary')\n",
    "f1_test = f1_score(y_test, y_pred_test, average='binary')\n",
    "\n",
    "print(f\"Precision of Random Forest model (test): {precision_test:.2f}\")\n",
    "print(f\"Recall of Random Forest model (test): {recall_test:.2f}\")\n",
    "print(f\"F1 Score of Random Forest model (test): {f1_test:.2f}\")"
   ]
  },
  {
   "cell_type": "code",
   "execution_count": 30,
   "metadata": {},
   "outputs": [
    {
     "name": "stdout",
     "output_type": "stream",
     "text": [
      "<class 'pandas.core.frame.DataFrame'>\n",
      "Index: 9221 entries, 7285 to 1203\n",
      "Data columns (total 32 columns):\n",
      " #   Column                Non-Null Count  Dtype  \n",
      "---  ------                --------------  -----  \n",
      " 0   funding_total_usd     9221 non-null   float64\n",
      " 1   country_code          9221 non-null   int32  \n",
      " 2   state_code            9221 non-null   int32  \n",
      " 3   funding_rounds        9221 non-null   int64  \n",
      " 4   Software              9221 non-null   int64  \n",
      " 5   Biotechnology         9221 non-null   int64  \n",
      " 6   Mobile                9221 non-null   int64  \n",
      " 7   Curated Web           9221 non-null   int64  \n",
      " 8   E-Commerce            9221 non-null   int64  \n",
      " 9   Social Media          9221 non-null   int64  \n",
      " 10  Advertising           9221 non-null   int64  \n",
      " 11  Enterprise Software   9221 non-null   int64  \n",
      " 12  Games                 9221 non-null   int64  \n",
      " 13  Health Care           9221 non-null   int64  \n",
      " 14  Services              9221 non-null   int64  \n",
      " 15  Internet              9221 non-null   int64  \n",
      " 16  Technology            9221 non-null   int64  \n",
      " 17  Finance               9221 non-null   int64  \n",
      " 18  Analytics             9221 non-null   int64  \n",
      " 19  Hardware + Software   9221 non-null   int64  \n",
      " 20  Security              9221 non-null   int64  \n",
      " 21  Clean Technology      9221 non-null   int64  \n",
      " 22  Semiconductors        9221 non-null   int64  \n",
      " 23  Apps                  9221 non-null   int64  \n",
      " 24  Health and Wellness   9221 non-null   int64  \n",
      " 25  SaaS                  9221 non-null   int64  \n",
      " 26  Web Hosting           9221 non-null   int64  \n",
      " 27  Video                 9221 non-null   int64  \n",
      " 28  Networking            9221 non-null   int64  \n",
      " 29  Social Network Media  9221 non-null   int64  \n",
      " 30  age_at_first_funding  9221 non-null   int64  \n",
      " 31  age_at_last_funding   9221 non-null   int64  \n",
      "dtypes: float64(1), int32(2), int64(29)\n",
      "memory usage: 2.3 MB\n"
     ]
    }
   ],
   "source": [
    "X_train.info()"
   ]
  },
  {
   "cell_type": "code",
   "execution_count": 31,
   "metadata": {},
   "outputs": [
    {
     "data": {
      "text/plain": [
       "funding_total_usd       0\n",
       "country_code            0\n",
       "state_code              0\n",
       "funding_rounds          0\n",
       "Software                0\n",
       "Biotechnology           0\n",
       "Mobile                  0\n",
       "Curated Web             0\n",
       "E-Commerce              0\n",
       "Social Media            0\n",
       "Advertising             0\n",
       "Enterprise Software     0\n",
       "Games                   0\n",
       "Health Care             0\n",
       "Services                0\n",
       "Internet                0\n",
       "Technology              0\n",
       "Finance                 0\n",
       "Analytics               0\n",
       "Hardware + Software     0\n",
       "Security                0\n",
       "Clean Technology        0\n",
       "Semiconductors          0\n",
       "Apps                    0\n",
       "Health and Wellness     0\n",
       "SaaS                    0\n",
       "Web Hosting             0\n",
       "Video                   0\n",
       "Networking              0\n",
       "Social Network Media    0\n",
       "age_at_first_funding    0\n",
       "age_at_last_funding     0\n",
       "dtype: int64"
      ]
     },
     "execution_count": 31,
     "metadata": {},
     "output_type": "execute_result"
    }
   ],
   "source": [
    "X_train.isna().sum()"
   ]
  },
  {
   "cell_type": "code",
   "execution_count": null,
   "metadata": {},
   "outputs": [
    {
     "name": "stdout",
     "output_type": "stream",
     "text": [
      "Accuracy of KNN model (test): 0.65\n",
      "Accuracy of KNN model (train): 0.77\n"
     ]
    }
   ],
   "source": [
    "from sklearn.preprocessing import StandardScaler\n",
    "from sklearn.neighbors import KNeighborsClassifier\n",
    "\n",
    "# 5. Scale the features (important for KNN)\n",
    "scaler = StandardScaler()\n",
    "X_train_scaled = scaler.fit_transform(X_train)\n",
    "X_test_scaled = scaler.transform(X_test)\n",
    "\n",
    "# 6. Create and train the KNN model\n",
    "knn_model = KNeighborsClassifier(n_neighbors=5)  # You can adjust n_neighbors\n",
    "knn_model.fit(X_train_scaled, y_train)\n",
    "\n",
    "# 7. Make predictions on the test set\n",
    "y_pred_test = knn_model.predict(X_test_scaled)\n",
    "\n",
    "# 8. Evaluate the model performance\n",
    "accuracy_test = accuracy_score(y_test, y_pred_test)\n",
    "\n",
    "print(f\"Accuracy of KNN model (test): {accuracy_test:.2f}\")\n",
    "\n",
    "# 9. Make predictions on the training set\n",
    "y_pred_train = knn_model.predict(X_train_scaled)\n",
    "\n",
    "#10. Evaluate the model performance on the training set.\n",
    "accuracy_train = accuracy_score(y_train, y_pred_train)\n",
    "\n",
    "print(f\"Accuracy of KNN model (train): {accuracy_train:.2f}\")\n",
    "\n",
    "# Calculate precision, recall, and F1 score on the test set\n",
    "precision_test = precision_score(y_test, y_pred_test, average='binary')\n",
    "recall_test = recall_score(y_test, y_pred_test, average='binary')\n",
    "f1_test = f1_score(y_test, y_pred_test, average='binary')\n",
    "\n",
    "print(f\"Precision of Random Forest model (test): {precision_test:.2f}\")\n",
    "print(f\"Recall of Random Forest model (test): {recall_test:.2f}\")\n",
    "print(f\"F1 Score of Random Forest model (test): {f1_test:.2f}\")"
   ]
  },
  {
   "cell_type": "code",
   "execution_count": null,
   "metadata": {},
   "outputs": [],
   "source": [
    "from sklearn.naive_bayes import GaussianNB\n",
    "\n",
    "# 11. Create and train the Naive Bayes model\n",
    "nb_model = GaussianNB()\n",
    "nb_model.fit(X_train_scaled, y_train)\n",
    "\n",
    "# 12. Make predictions on the test set\n",
    "y_pred_test = nb_model.predict(X_test_scaled)\n",
    "\n",
    "# 13. Evaluate model performance on the test set\n",
    "accuracy_test = accuracy_score(y_test, y_pred_test)\n",
    "print(f\"Accuracy of Naive Bayes model (test): {accuracy_test:.2f}\")\n",
    "\n",
    "# 14. Make predictions on the training set\n",
    "y_pred_train = nb_model.predict(X_train_scaled)\n",
    "\n",
    "# 15. Evaluate model performance on the training set\n",
    "accuracy_train = accuracy_score(y_train, y_pred_train)\n",
    "print(f\"Accuracy of Naive Bayes model (train): {accuracy_train:.2f}\")\n",
    "\n",
    "# 16. Calculate precision, recall, and F1 score on the test set\n",
    "precision_test = precision_score(y_test, y_pred_test, average='binary')\n",
    "recall_test = recall_score(y_test, y_pred_test, average='binary')\n",
    "f1_test = f1_score(y_test, y_pred_test, average='binary')\n",
    "\n",
    "print(f\"Precision of Naive Bayes model (test): {precision_test:.2f}\")\n",
    "print(f\"Recall of Naive Bayes model (test): {recall_test:.2f}\")\n",
    "print(f\"F1 Score of Naive Bayes model (test): {f1_test:.2f}\")"
   ]
  },
  {
   "cell_type": "code",
   "execution_count": null,
   "metadata": {},
   "outputs": [],
   "source": [
    "from xgboost import XGBClassifier\n",
    "\n",
    "# 17. Create and train the XGBoost model\n",
    "xgb_model = XGBClassifier(use_label_encoder=False, eval_metric='logloss', random_state=42)\n",
    "xgb_model.fit(X_train_scaled, y_train)\n",
    "\n",
    "# 18. Make predictions on the test set\n",
    "y_pred_test = xgb_model.predict(X_test_scaled)\n",
    "\n",
    "# 19. Evaluate model performance on the test set\n",
    "accuracy_test = accuracy_score(y_test, y_pred_test)\n",
    "print(f\"Accuracy of XGBoost model (test): {accuracy_test:.2f}\")\n",
    "\n",
    "# 20. Make predictions on the training set\n",
    "y_pred_train = xgb_model.predict(X_train_scaled)\n",
    "\n",
    "# 21. Evaluate model performance on the training set\n",
    "accuracy_train = accuracy_score(y_train, y_pred_train)\n",
    "print(f\"Accuracy of XGBoost model (train): {accuracy_train:.2f}\")\n",
    "\n",
    "# 22. Calculate precision, recall, and F1 score on the test set\n",
    "precision_test = precision_score(y_test, y_pred_test, average='binary')\n",
    "recall_test = recall_score(y_test, y_pred_test, average='binary')\n",
    "f1_test = f1_score(y_test, y_pred_test, average='binary')\n",
    "\n",
    "print(f\"Precision of XGBoost model (test): {precision_test:.2f}\")\n",
    "print(f\"Recall of XGBoost model (test): {recall_test:.2f}\")\n",
    "print(f\"F1 Score of XGBoost model (test): {f1_test:.2f}\")"
   ]
  }
 ],
 "metadata": {
  "kernelspec": {
   "display_name": "base",
   "language": "python",
   "name": "python3"
  },
  "language_info": {
   "codemirror_mode": {
    "name": "ipython",
    "version": 3
   },
   "file_extension": ".py",
   "mimetype": "text/x-python",
   "name": "python",
   "nbconvert_exporter": "python",
   "pygments_lexer": "ipython3",
   "version": "3.12.3"
  }
 },
 "nbformat": 4,
 "nbformat_minor": 2
}
